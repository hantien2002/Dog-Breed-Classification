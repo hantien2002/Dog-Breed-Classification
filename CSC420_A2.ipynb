{
  "cells": [
    {
      "cell_type": "markdown",
      "metadata": {
        "id": "i8X99NLXNhBM"
      },
      "source": [
        "# CSC420 A2 Part II"
      ]
    },
    {
      "cell_type": "markdown",
      "metadata": {
        "id": "0fI00s0COBwL"
      },
      "source": [
        "## **Task II**\n",
        "\n",
        "I acknowledge that I used the code from https://medium.com/@ankitvashisht12/classifying-dog-breed-using-pytorch-abc9f3c5128a as my starter code."
      ]
    },
    {
      "cell_type": "markdown",
      "metadata": {
        "id": "DoikqJq2tgDA"
      },
      "source": [
        "Imports\n"
      ]
    },
    {
      "cell_type": "code",
      "execution_count": 1,
      "metadata": {
        "id": "rdKMwau7Nc15"
      },
      "outputs": [],
      "source": [
        "import os\n",
        "import torch\n",
        "import pandas as pd\n",
        "import numpy as np\n",
        "import torchvision\n",
        "import torch.nn as nn\n",
        "from torch.utils.data import Dataset, random_split, DataLoader\n",
        "import matplotlib.pyplot as plt\n",
        "import torch.nn.functional as F\n",
        "from torchvision.utils import make_grid\n",
        "from torchvision.datasets import ImageFolder\n",
        "import torchvision.transforms as transforms\n",
        "import torchvision.models as models\n",
        "from PIL import Image\n",
        "from collections import OrderedDict\n",
        "%matplotlib inline"
      ]
    },
    {
      "cell_type": "markdown",
      "metadata": {
        "id": "3NaFzZu_tmx5"
      },
      "source": [
        "Unzip"
      ]
    },
    {
      "cell_type": "code",
      "execution_count": 2,
      "metadata": {
        "id": "fvXg9zVmj9Lp",
        "colab": {
          "base_uri": "https://localhost:8080/"
        },
        "outputId": "3a0df38c-e44e-4598-e3e5-064101bea385"
      },
      "outputs": [
        {
          "output_type": "stream",
          "name": "stdout",
          "text": [
            "Mounted at /content/drive\n"
          ]
        }
      ],
      "source": [
        "from google.colab import drive\n",
        "drive.mount('/content/drive')\n",
        "\n",
        "import zipfile\n",
        "\n",
        "with zipfile.ZipFile('/content/drive/MyDrive/CSC420/A2/DBIsubset.zip', 'r') as zip_ref:\n",
        "    zip_ref.extractall('/content')\n"
      ]
    },
    {
      "cell_type": "markdown",
      "metadata": {
        "id": "zOEBm8bUtlY-"
      },
      "source": [
        "Dataset Exploration\n"
      ]
    },
    {
      "cell_type": "code",
      "execution_count": 3,
      "metadata": {
        "id": "NSvoNcGdscNa"
      },
      "outputs": [],
      "source": [
        "dataset = ImageFolder('/content/DBIsubset')"
      ]
    },
    {
      "cell_type": "code",
      "execution_count": null,
      "metadata": {
        "id": "iWX9ok3toosL"
      },
      "outputs": [],
      "source": [
        "len(dataset)"
      ]
    },
    {
      "cell_type": "code",
      "execution_count": null,
      "metadata": {
        "id": "ympPHtU4orYH"
      },
      "outputs": [],
      "source": [
        "len(dataset.classes)"
      ]
    },
    {
      "cell_type": "code",
      "execution_count": null,
      "metadata": {
        "id": "LhjPPx_uor1f"
      },
      "outputs": [],
      "source": [
        "breeds = []\n",
        "\n",
        "def rename(name):\n",
        "    return ' '.join(' '.join(name.split('-')[1:]).split('_'))\n",
        "\n",
        "for n in dataset.classes:\n",
        "    breeds.append(rename(n))"
      ]
    },
    {
      "cell_type": "markdown",
      "metadata": {
        "id": "wV-mewNVtqbU"
      },
      "source": [
        "Creating training, validation and testing dataset\n"
      ]
    },
    {
      "cell_type": "code",
      "execution_count": null,
      "metadata": {
        "id": "jinrA0uMoxRF"
      },
      "outputs": [],
      "source": [
        "random_seed = 420\n",
        "torch.manual_seed(random_seed);"
      ]
    },
    {
      "cell_type": "code",
      "execution_count": null,
      "metadata": {
        "id": "PZ_U22zRsmoW",
        "colab": {
          "base_uri": "https://localhost:8080/"
        },
        "outputId": "08b84d00-d32a-46a9-ce55-9ba2265712e4"
      },
      "outputs": [
        {
          "output_type": "execute_result",
          "data": {
            "text/plain": [
              "(408, 45, 193)"
            ]
          },
          "metadata": {},
          "execution_count": 6
        }
      ],
      "source": [
        "test_pct = 0.3\n",
        "test_size = int(len(dataset)*test_pct)\n",
        "dataset_size = len(dataset) - test_size\n",
        "\n",
        "val_pct = 0.1\n",
        "val_size = int(dataset_size*val_pct)\n",
        "train_size = dataset_size - val_size\n",
        "\n",
        "\n",
        "train_size, val_size, test_size"
      ]
    },
    {
      "cell_type": "code",
      "execution_count": null,
      "metadata": {
        "id": "QNv681wjsqhr",
        "colab": {
          "base_uri": "https://localhost:8080/"
        },
        "outputId": "dec66d78-f306-49a2-f593-029ca2c8b3f6"
      },
      "outputs": [
        {
          "output_type": "execute_result",
          "data": {
            "text/plain": [
              "(408, 45, 193)"
            ]
          },
          "metadata": {},
          "execution_count": 7
        }
      ],
      "source": [
        "train_ds, val_ds, test_ds = random_split(dataset, [train_size, val_size, test_size])\n",
        "len(train_ds), len(val_ds), len(test_ds)"
      ]
    },
    {
      "cell_type": "code",
      "execution_count": null,
      "metadata": {
        "id": "qGGnoQbFstwy",
        "colab": {
          "base_uri": "https://localhost:8080/",
          "height": 432
        },
        "outputId": "da35ec70-0718-44fe-b021-69c15eae141c"
      },
      "outputs": [
        {
          "output_type": "stream",
          "name": "stdout",
          "text": [
            "labrador_retriever\n",
            "<class 'PIL.Image.Image'>\n"
          ]
        },
        {
          "output_type": "display_data",
          "data": {
            "text/plain": [
              "<Figure size 640x480 with 1 Axes>"
            ],
            "image/png": "[encoded data removed]"
          },
          "metadata": {}
        }
      ],
      "source": [
        "img, label = train_ds[6]\n",
        "print(dataset.classes[label])\n",
        "plt.imshow(img)\n",
        "print(type(img))"
      ]
    },
    {
      "cell_type": "markdown",
      "metadata": {
        "id": "6P4edV-_tsY-"
      },
      "source": [
        "Creating Custom Dataset\n"
      ]
    },
    {
      "cell_type": "code",
      "execution_count": null,
      "metadata": {
        "id": "Eticc9udsv0O"
      },
      "outputs": [],
      "source": [
        "class DogBreedDataset(Dataset):\n",
        "\n",
        "    def __init__(self, ds, transform=None):\n",
        "        self.ds = ds\n",
        "        self.transform = transform\n",
        "\n",
        "    def __len__(self):\n",
        "        return len(self.ds)\n",
        "\n",
        "    def __getitem__(self, idx):\n",
        "        img, label = self.ds[idx]\n",
        "        if self.transform:\n",
        "            img = self.transform(img)\n",
        "            return img, label"
      ]
    },
    {
      "cell_type": "code",
      "execution_count": null,
      "metadata": {
        "id": "pXEP1UE5s0Eo"
      },
      "outputs": [],
      "source": [
        "imagenet_stats = ([0.485, 0.456, 0.406], [0.229, 0.224, 0.225])\n",
        "\n",
        "train_transform = transforms.Compose([\n",
        "#    transforms.Resize((224, 224)),\n",
        "    transforms.Resize((256, 256)),\n",
        "    transforms.RandomCrop(224, padding=4, padding_mode='reflect'),\n",
        "    transforms.RandomHorizontalFlip(p=0.3),\n",
        "    transforms.ColorJitter(brightness=0.5),\n",
        "    transforms.RandomRotation(degrees=30),\n",
        "    transforms.ToTensor(),\n",
        "#    transforms.Normalize(*imagenet_stats, inplace=True)\n",
        "\n",
        "])\n",
        "\n",
        "\n",
        "val_transform = transforms.Compose([\n",
        "    transforms.Resize((224,224)),\n",
        "    transforms.ToTensor(),\n",
        "#    transforms.Normalize(*imagenet_stats, inplace=True)\n",
        "])\n",
        "\n",
        "test_transform = transforms.Compose([\n",
        "    transforms.Resize((224,224)),\n",
        "    transforms.ToTensor(),\n",
        "#    transforms.Normalize(*imagenet_stats, inplace=True)\n",
        "])"
      ]
    },
    {
      "cell_type": "code",
      "execution_count": null,
      "metadata": {
        "id": "4tl8aeRTs26m"
      },
      "outputs": [],
      "source": [
        "train_dataset = DogBreedDataset(train_ds, train_transform)\n",
        "val_dataset = DogBreedDataset(val_ds, val_transform)\n",
        "test_dataset = DogBreedDataset(test_ds, test_transform)"
      ]
    },
    {
      "cell_type": "code",
      "execution_count": null,
      "metadata": {
        "id": "3u4JO_9vs4L_",
        "colab": {
          "base_uri": "https://localhost:8080/",
          "height": 470
        },
        "outputId": "c975a1d6-4192-41cb-d388-ac5a5286c0ee"
      },
      "outputs": [
        {
          "output_type": "stream",
          "name": "stdout",
          "text": [
            "4\n"
          ]
        },
        {
          "output_type": "execute_result",
          "data": {
            "text/plain": [
              "<matplotlib.image.AxesImage at 0x792b492e1f30>"
            ]
          },
          "metadata": {},
          "execution_count": 11
        },
        {
          "output_type": "display_data",
          "data": {
            "text/plain": [
              "<Figure size 640x480 with 1 Axes>"
            ],
            "image/png": "[encoded data removed]"
          },
          "metadata": {}
        }
      ],
      "source": [
        "img, label = train_dataset[6]\n",
        "print(label)\n",
        "plt.imshow(img.permute(1,2,0))"
      ]
    },
    {
      "cell_type": "code",
      "execution_count": null,
      "metadata": {
        "id": "DsAR1Rrms8js"
      },
      "outputs": [],
      "source": [
        "batch_size =64\n",
        "\n",
        "# Create DataLoaders\n",
        "train_dl = DataLoader(train_dataset, batch_size, shuffle=True, num_workers=2, pin_memory=True)\n",
        "val_dl = DataLoader(val_dataset, batch_size*2, num_workers=2, pin_memory=True)\n",
        "test_dl = DataLoader(test_dataset, batch_size*2, num_workers=2, pin_memory=True)"
      ]
    },
    {
      "cell_type": "code",
      "execution_count": null,
      "metadata": {
        "id": "DCFKhXpDs-Uk"
      },
      "outputs": [],
      "source": [
        "def show_batch(dl):\n",
        "    for img, lb in dl:\n",
        "        fig, ax = plt.subplots(figsize=(16, 8))\n",
        "        ax.set_xticks([]); ax.set_yticks([])\n",
        "        ax.imshow(make_grid(img.cpu(), nrow=16).permute(1,2,0))\n",
        "        break"
      ]
    },
    {
      "cell_type": "code",
      "execution_count": null,
      "metadata": {
        "id": "UA3ffdKvs-xX"
      },
      "outputs": [],
      "source": [
        "show_batch(train_dl)"
      ]
    },
    {
      "cell_type": "markdown",
      "metadata": {
        "id": "YA1GKvINuJ71"
      },
      "source": [
        "Network Architecture\n"
      ]
    },
    {
      "cell_type": "code",
      "execution_count": null,
      "metadata": {
        "id": "wnt5w0u2xHwk"
      },
      "outputs": [],
      "source": [
        "def accuracy(outputs, labels):\n",
        "    _, preds = torch.max(outputs, dim=1)\n",
        "    return torch.tensor(torch.sum(preds == labels).item() / len(preds))"
      ]
    },
    {
      "cell_type": "code",
      "execution_count": null,
      "metadata": {
        "id": "zidbx0xNxLZP"
      },
      "outputs": [],
      "source": [
        "class ImageClassificationBase(nn.Module):\n",
        "    # training step\n",
        "    def training_step(self, batch):\n",
        "        img, targets = batch\n",
        "        out = self(img)\n",
        "        loss = F.cross_entropy(out, targets) # cross entropy\n",
        "        acc = accuracy(out, targets)\n",
        "        # return acc\n",
        "        return {'train_loss': loss, 'train_acc': acc}\n",
        "\n",
        "    # testing step\n",
        "    def testing_step(self, batch):\n",
        "        img, targets = batch\n",
        "        out = self(img)\n",
        "        loss = F.cross_entropy(out, targets) # cross entropy\n",
        "        acc = accuracy(out, targets)\n",
        "        return {'test_loss': loss.detach(), 'test_acc': acc.detach()}\n",
        "\n",
        "    # testing epoch end\n",
        "    def testing_epoch_end(self, outputs):\n",
        "        batch_losses = [x['test_loss'] for x in outputs]\n",
        "        epoch_loss = torch.stack(batch_losses).mean()\n",
        "        batch_accs = [x['test_acc'] for x in outputs]\n",
        "        epoch_acc = torch.stack(batch_accs).mean()\n",
        "        return {'test_loss':epoch_loss.item(), 'test_acc':epoch_acc.item()}\n",
        "\n",
        "    # print result end epoch\n",
        "    def epoch_end(self, epoch, result):\n",
        "        # print(\"Epoch [{}] : train_loss: {:.4f}, val_loss: {:.4f}, val_acc: {:.4f}\".format(epoch, result[\"train_loss\"], result[\"val_loss\"], result[\"val_acc\"]))\n",
        "        print(\"Epoch [{}] : train_acc: {:.4f}, val_acc: {:.4f}\".format(epoch, result[\"train_acc\"], result[\"test_acc\"]))\n"
      ]
    },
    {
      "cell_type": "code",
      "execution_count": null,
      "metadata": {
        "id": "51QBbz-yxICS"
      },
      "outputs": [],
      "source": [
        "class DogBreedClassificationCNN(ImageClassificationBase):\n",
        "    def __init__(self):\n",
        "        super().__init__()\n",
        "\n",
        "        self.network = nn.Sequential(\n",
        "            nn.Conv2d(3, 16, 3),  # 1st convolutional layer with 16 filters of size 3x3\n",
        "            nn.BatchNorm2d(16),   # Batch normalization\n",
        "            nn.ReLU(),             # ReLU activation\n",
        "\n",
        "            nn.Conv2d(16, 16, 3), # 2nd convolutional layer with 16 filters of size 3x3\n",
        "            nn.MaxPool2d(2, 2),    # Max pooling with size 2x2\n",
        "\n",
        "            nn.Conv2d(16, 8, 3),  # 3rd convolutional layer with 8 filters of size 3x3\n",
        "            nn.BatchNorm2d(8),    # Batch normalization\n",
        "            nn.ReLU(),             # ReLU activation\n",
        "\n",
        "            nn.Conv2d(8, 8, 3),   # 4th convolutional layer with 8 filters of size 3x3\n",
        "            nn.MaxPool2d(2, 2),    # Max pooling with size 2x2\n",
        "\n",
        "            nn.Flatten(),          # Flattening the 3D tensor to 1D\n",
        "\n",
        "            nn.Dropout(0.5),       # Dropout layer with p=0.5\n",
        "            # nn.Linear(8 * 6 * 6, 32), # Fully connected layer (assuming input size 32x32; adjust dimensions if needed)\n",
        "            nn.Linear(8 * 53 * 53, 32),\n",
        "            nn.ReLU(),             # ReLU activation\n",
        "\n",
        "            nn.Dropout(0.5),       # Another dropout layer with p=0.5\n",
        "            nn.Linear(32, 7),      # Output layer for 7 classes\n",
        "            nn.Softmax(dim=1)      # Softmax activation\n",
        "        )\n",
        "\n",
        "    def forward(self, xb):\n",
        "        return self.network(xb)"
      ]
    },
    {
      "cell_type": "code",
      "execution_count": null,
      "metadata": {
        "id": "H8VJvSJU5QVH"
      },
      "outputs": [],
      "source": [
        "model = DogBreedClassificationCNN()\n",
        "model"
      ]
    },
    {
      "cell_type": "markdown",
      "metadata": {
        "id": "nXPAnXL55Qgt"
      },
      "source": [
        "Training"
      ]
    },
    {
      "cell_type": "code",
      "execution_count": null,
      "metadata": {
        "id": "AJmHnwYJjAMO"
      },
      "outputs": [],
      "source": [
        "# check the model\n",
        "def try_batch(dl):\n",
        "    for imgs, labels in dl:\n",
        "        print(\"images shape : \", imgs.shape)\n",
        "        print(\"labels : \", labels)\n",
        "        outs = model(imgs)                                  # Change model object here\n",
        "        print(\"outs.shape :\", outs.shape)\n",
        "        print(\"outs : \", outs)\n",
        "        break"
      ]
    },
    {
      "cell_type": "code",
      "execution_count": null,
      "metadata": {
        "id": "upKurix-TtD8"
      },
      "outputs": [],
      "source": [
        "try_batch(train_dl)"
      ]
    },
    {
      "cell_type": "code",
      "execution_count": null,
      "metadata": {
        "id": "xUkwqKU9WPpe"
      },
      "outputs": [],
      "source": [
        "from tqdm.notebook import tqdm"
      ]
    },
    {
      "cell_type": "code",
      "execution_count": null,
      "metadata": {
        "id": "z7ORRTOCWRQL"
      },
      "outputs": [],
      "source": [
        "def get_lr(optimizer):\n",
        "    for param_group in optimizer.param_groups:\n",
        "        return param_group['lr']\n",
        "\n",
        "\n",
        "def fit_one_cycle(epochs, max_lr, model, train_loader, test_loader, weight_decay=0, grad_clip=None, opt_func = torch.optim.Adam):\n",
        "    torch.cuda.empty_cache()\n",
        "    history = []\n",
        "    optimizer = opt_func(model.parameters(), max_lr, weight_decay=weight_decay)\n",
        "    # set up one cycle lr scheduler\n",
        "    sched = torch.optim.lr_scheduler.OneCycleLR(optimizer, max_lr, epochs=epochs, steps_per_epoch=len(train_loader))\n",
        "\n",
        "    for epoch in range(epochs):\n",
        "\n",
        "        # Training phase\n",
        "        model.train()\n",
        "        # train_losses = []\n",
        "        train_accs = []  # to store training accuracies\n",
        "        lrs = []\n",
        "        for batch in tqdm(train_loader):\n",
        "            # print(f\"Debug - batch: {batch}\")  # Debug line 1\n",
        "            train_result = model.training_step(batch)\n",
        "            # print(f\"Debug - result: {result}\")  # Debug line 2\n",
        "            # print(f\"Debug - train_loss: {result['train_loss']}, train_acc: {result['train_acc']}\")  # Debug line\n",
        "            # train_losses.append(result['train_loss'])\n",
        "            train_accs.append(train_result['train_acc'])\n",
        "\n",
        "            # calculates gradients\n",
        "            train_result['train_loss'].backward()\n",
        "\n",
        "            # check gradient clipping\n",
        "            if grad_clip:\n",
        "                nn.utils.clip_grad_value_(model.parameters(), grad_clip)\n",
        "\n",
        "            # perform gradient descent and modifies the weights\n",
        "            optimizer.step()\n",
        "\n",
        "            # reset the gradients\n",
        "            optimizer.zero_grad()\n",
        "\n",
        "            # record and update lr\n",
        "            lrs.append(get_lr(optimizer))\n",
        "\n",
        "            # modifies the lr value\n",
        "            sched.step()\n",
        "\n",
        "        # Validation phase\n",
        "        result = evaluate(model, test_loader)\n",
        "        # result['train_loss'] = torch.stack(train_losses).mean().item()\n",
        "        result['train_acc'] = torch.stack(train_accs).mean().item()\n",
        "        # train_losses.append(result['train_loss'].item())  # Updated\n",
        "        # train_accs.append(result['train_acc'].item())  # Updated\n",
        "        result['lrs'] = lrs\n",
        "        model.epoch_end(epoch, result)\n",
        "        history.append(result)\n",
        "\n",
        "\n",
        "    return history\n",
        "\n",
        "\n",
        "\n",
        "@torch.no_grad()\n",
        "def evaluate(model, test_loader):\n",
        "    model.eval()\n",
        "    outputs = [model.testing_step(batch) for batch in test_loader]\n",
        "    return model.testing_epoch_end(outputs)"
      ]
    },
    {
      "cell_type": "code",
      "execution_count": null,
      "metadata": {
        "id": "hXJdA6GeWWzp"
      },
      "outputs": [],
      "source": [
        "evaluate(model, test_dl)                 # change model object here"
      ]
    },
    {
      "cell_type": "code",
      "execution_count": null,
      "metadata": {
        "id": "La4oXPmtWod0"
      },
      "outputs": [],
      "source": [
        "# set hyperparams\n",
        "num_epochs = 10\n",
        "opt_func = torch.optim.SGD\n",
        "\n",
        "max_lr = 0.001\n",
        "grad_clip = 0.1\n",
        "weight_decay = 1e-4"
      ]
    },
    {
      "cell_type": "code",
      "execution_count": null,
      "metadata": {
        "id": "ASE5CAAPWowK"
      },
      "outputs": [],
      "source": [
        "history = fit_one_cycle(num_epochs, max_lr, model, train_dl, test_dl, weight_decay, grad_clip, opt_func)"
      ]
    },
    {
      "cell_type": "markdown",
      "metadata": {
        "id": "eN0t2CrMXUav"
      },
      "source": [
        "Plotting history"
      ]
    },
    {
      "cell_type": "code",
      "execution_count": null,
      "metadata": {
        "id": "9dibPe0_W2S5"
      },
      "outputs": [],
      "source": [
        "history[0].keys()"
      ]
    },
    {
      "cell_type": "markdown",
      "metadata": {
        "id": "jDmJt9zMm7XX"
      },
      "source": [
        "Loss v/s Epochs plot\n"
      ]
    },
    {
      "cell_type": "code",
      "execution_count": null,
      "metadata": {
        "id": "SxheYlhKXV8q"
      },
      "outputs": [],
      "source": [
        "train_acc = [x['train_acc'] for x in history]\n",
        "val_acc = [x['test_acc'] for x in history]\n",
        "epochs = range(1, len(train_acc) + 1)\n",
        "\n",
        "plt.plot(epochs, train_acc, 'g', label='Training acc')\n",
        "plt.plot(epochs, val_acc, 'b', label='Testing acc')\n",
        "plt.title('Training and Testing accuracy with dropout')\n",
        "plt.xlabel('Epochs')\n",
        "plt.ylabel('Accuracy')\n",
        "plt.legend()\n",
        "plt.savefig('task2_1.png')\n",
        "plt.show()"
      ]
    },
    {
      "cell_type": "code",
      "execution_count": null,
      "metadata": {
        "id": "hGbxSn5tkcbn"
      },
      "outputs": [],
      "source": [
        "# CNN model without dropout\n",
        "\n",
        "class DogBreedClassificationCNN_without_dropout(ImageClassificationBase):\n",
        "    def __init__(self):\n",
        "        super().__init__()\n",
        "\n",
        "        self.network = nn.Sequential(\n",
        "            nn.Conv2d(3, 16, 3),  # 1st convolutional layer with 16 filters of size 3x3\n",
        "            nn.BatchNorm2d(16),   # Batch normalization\n",
        "            nn.ReLU(),             # ReLU activation\n",
        "\n",
        "            nn.Conv2d(16, 16, 3), # 2nd convolutional layer with 16 filters of size 3x3\n",
        "            nn.MaxPool2d(2, 2),    # Max pooling with size 2x2\n",
        "\n",
        "            nn.Conv2d(16, 8, 3),  # 3rd convolutional layer with 8 filters of size 3x3\n",
        "            nn.BatchNorm2d(8),    # Batch normalization\n",
        "            nn.ReLU(),             # ReLU activation\n",
        "\n",
        "            nn.Conv2d(8, 8, 3),   # 4th convolutional layer with 8 filters of size 3x3\n",
        "            nn.MaxPool2d(2, 2),    # Max pooling with size 2x2\n",
        "\n",
        "            nn.Flatten(),          # Flattening the 3D tensor to 1D\n",
        "\n",
        "            # nn.Linear(8 * 6 * 6, 32), # Fully connected layer (assuming input size 32x32; adjust dimensions if needed)\n",
        "            nn.Linear(8 * 53 * 53, 32),\n",
        "            nn.ReLU(),             # ReLU activation\n",
        "\n",
        "            nn.Linear(32, 7),      # Output layer for 7 classes\n",
        "            nn.Softmax(dim=1)      # Softmax activation\n",
        "        )\n",
        "\n",
        "    def forward(self, xb):\n",
        "        return self.network(xb)"
      ]
    },
    {
      "cell_type": "code",
      "execution_count": null,
      "metadata": {
        "id": "LSLph_Fukgjw"
      },
      "outputs": [],
      "source": [
        "model_without = DogBreedClassificationCNN_without_dropout()"
      ]
    },
    {
      "cell_type": "code",
      "execution_count": null,
      "metadata": {
        "id": "nrypykackmUR"
      },
      "outputs": [],
      "source": [
        "try_batch(train_dl)"
      ]
    },
    {
      "cell_type": "code",
      "execution_count": null,
      "metadata": {
        "id": "ndF_6Q1Ukrhc"
      },
      "outputs": [],
      "source": [
        "evaluate(model_without, test_dl)                 # change model object here"
      ]
    },
    {
      "cell_type": "code",
      "execution_count": null,
      "metadata": {
        "id": "Ag1WX1ECku0o"
      },
      "outputs": [],
      "source": [
        "# set hyperparams\n",
        "num_epochs = 10\n",
        "opt_func = torch.optim.SGD\n",
        "\n",
        "max_lr = 0.001\n",
        "grad_clip = 0.1\n",
        "weight_decay = 1e-4"
      ]
    },
    {
      "cell_type": "code",
      "execution_count": null,
      "metadata": {
        "id": "8fnY-dMslwlU"
      },
      "outputs": [],
      "source": [
        "history_without = fit_one_cycle(num_epochs, max_lr, model_without, train_dl, test_dl, weight_decay, grad_clip, opt_func)"
      ]
    },
    {
      "cell_type": "code",
      "source": [
        "history_without[0].keys()"
      ],
      "metadata": {
        "id": "KAXeatJvgvPC",
        "colab": {
          "base_uri": "https://localhost:8080/"
        },
        "outputId": "b8721a86-b2f0-46db-dd4d-c545ae6f3afb"
      },
      "execution_count": null,
      "outputs": [
        {
          "output_type": "execute_result",
          "data": {
            "text/plain": [
              "dict_keys(['test_loss', 'test_acc', 'train_acc', 'lrs'])"
            ]
          },
          "metadata": {},
          "execution_count": 40
        }
      ]
    },
    {
      "cell_type": "code",
      "source": [
        "train_acc_without = [x['train_acc'] for x in history_without]\n",
        "val_acc_without = [x['test_acc'] for x in history_without]\n",
        "epochs = range(1, len(train_acc) + 1)\n",
        "\n",
        "plt.plot(epochs, train_acc_without, 'g', label='Training acc without')\n",
        "plt.plot(epochs, val_acc_without, 'b', label='Testing acc without')\n",
        "plt.title('Training and Testing accuracy without dropout')\n",
        "plt.xlabel('Epochs')\n",
        "plt.ylabel('Accuracy')\n",
        "plt.legend()\n",
        "plt.savefig('task2_2.png')\n",
        "plt.show()"
      ],
      "metadata": {
        "id": "FAYp2pOJgvlk",
        "colab": {
          "base_uri": "https://localhost:8080/",
          "height": 472
        },
        "outputId": "b680fe9b-7115-49f6-f8fb-1eef15c63a18"
      },
      "execution_count": null,
      "outputs": [
        {
          "output_type": "display_data",
          "data": {
            "text/plain": [
              "<Figure size 640x480 with 1 Axes>"
            ],
            "image/png": "[encoded data removed]"
          },
          "metadata": {}
        }
      ]
    },
    {
      "cell_type": "markdown",
      "source": [
        "Task III (a)"
      ],
      "metadata": {
        "id": "BPd1S8ABg5UE"
      }
    },
    {
      "cell_type": "code",
      "source": [
        "class CustomResNet(ImageClassificationBase):\n",
        "    def __init__(self, num_classes):\n",
        "        super(CustomResNet, self).__init__()\n",
        "        # Initialize the resnet18 model\n",
        "        self.network = resnet18(pretrained=False)\n",
        "        # Modify the output layer\n",
        "        self.network.fc = nn.Linear(self.network.fc.in_features, num_classes)\n",
        "\n",
        "    def forward(self, xb):\n",
        "        return self.network(xb)"
      ],
      "metadata": {
        "id": "ygal9ogdnjHE"
      },
      "execution_count": null,
      "outputs": []
    },
    {
      "cell_type": "code",
      "source": [
        "# Import ResNet-18\n",
        "from torchvision.models import resnet18\n",
        "\n",
        "# Modify the output layer\n",
        "num_classes = 7\n",
        "# resnet_model.fc = nn.Linear(resnet_model.fc.in_features, num_classes)\n",
        "custom_resnet_model = CustomResNet(num_classes=num_classes)\n",
        "\n",
        "# Train the model\n",
        "history_resnet = fit_one_cycle(num_epochs, max_lr, custom_resnet_model, train_dl, test_dl, weight_decay, grad_clip, opt_func)"
      ],
      "metadata": {
        "id": "9A_5QaL8mZP6"
      },
      "execution_count": null,
      "outputs": []
    },
    {
      "cell_type": "code",
      "source": [
        "# Plotting the accuracy for ResNet model\n",
        "train_acc_resnet = [x['train_acc'] for x in history_resnet]\n",
        "val_acc_resnet = [x['test_acc'] for x in history_resnet]\n",
        "\n",
        "plt.figure(figsize=(12, 6))\n",
        "plt.plot(epochs, train_acc, 'g', label='Training acc (Custom CNN)')\n",
        "plt.plot(epochs, val_acc, 'b', label='Testing acc (Custom CNN)')\n",
        "plt.plot(epochs, train_acc_resnet, 'r--', label='Training acc (ResNet-18)')\n",
        "plt.plot(epochs, val_acc_resnet, 'm--', label='Testing acc (ResNet-18)')\n",
        "plt.title('Comparison of Accuracies')\n",
        "plt.xlabel('Epochs')\n",
        "plt.ylabel('Accuracy')\n",
        "plt.legend()\n",
        "plt.savefig('task3_a.png')\n",
        "plt.show()"
      ],
      "metadata": {
        "id": "_UB488xc3aEe"
      },
      "execution_count": null,
      "outputs": []
    },
    {
      "cell_type": "markdown",
      "source": [
        "Task III (b)"
      ],
      "metadata": {
        "id": "FqWeZ7KL59fb"
      }
    },
    {
      "cell_type": "code",
      "source": [
        "with zipfile.ZipFile('/content/drive/MyDrive/CSC420/A2/SDDsubset.zip', 'r') as zip_ref:\n",
        "    zip_ref.extractall('/content')"
      ],
      "metadata": {
        "id": "FCILBKyE6BZW"
      },
      "execution_count": 4,
      "outputs": []
    },
    {
      "cell_type": "code",
      "source": [
        "dataset_SDD = ImageFolder('/content/SDDsubset')"
      ],
      "metadata": {
        "id": "PHIRVxL-6yDB"
      },
      "execution_count": 5,
      "outputs": []
    },
    {
      "cell_type": "code",
      "source": [
        "len(dataset_SDD)"
      ],
      "metadata": {
        "id": "EF5TkDtK63wo"
      },
      "execution_count": null,
      "outputs": []
    },
    {
      "cell_type": "code",
      "source": [
        "len(dataset_SDD.classes)"
      ],
      "metadata": {
        "id": "ruRk9w7M64Wj"
      },
      "execution_count": null,
      "outputs": []
    },
    {
      "cell_type": "code",
      "source": [
        "random_seed = 420\n",
        "torch.manual_seed(random_seed);"
      ],
      "metadata": {
        "id": "M3PuWVNg7BD1"
      },
      "execution_count": null,
      "outputs": []
    },
    {
      "cell_type": "code",
      "source": [
        "sdd_dataset = DogBreedDataset(dataset_SDD, transform=test_transform)\n",
        "sdd_dl = DataLoader(sdd_dataset, batch_size*2, num_workers=2, pin_memory=True)"
      ],
      "metadata": {
        "id": "LiRr6B_I9zXu"
      },
      "execution_count": null,
      "outputs": []
    },
    {
      "cell_type": "code",
      "source": [
        "sdd_results = evaluate(custom_resnet_model, sdd_dl)\n",
        "sdd_accuracy = sdd_results['test_acc']"
      ],
      "metadata": {
        "id": "q6P0rDOq8oUs"
      },
      "execution_count": null,
      "outputs": []
    },
    {
      "cell_type": "code",
      "source": [
        "print(sdd_accuracy)"
      ],
      "metadata": {
        "id": "C2xOaps--Mjk"
      },
      "execution_count": null,
      "outputs": []
    },
    {
      "cell_type": "code",
      "source": [
        "dbi_accuracy = history_resnet[-1]['test_acc']\n",
        "print(dbi_accuracy)"
      ],
      "metadata": {
        "id": "SWklAb_-9gZ5"
      },
      "execution_count": null,
      "outputs": []
    },
    {
      "cell_type": "markdown",
      "source": [
        "Task IV"
      ],
      "metadata": {
        "id": "MwsueZxHMVQk"
      }
    },
    {
      "cell_type": "code",
      "source": [
        "from tqdm.notebook import tqdm"
      ],
      "metadata": {
        "id": "HWHkccEn4_Zk"
      },
      "execution_count": null,
      "outputs": []
    },
    {
      "cell_type": "code",
      "source": [
        "def get_lr(optimizer):\n",
        "    for param_group in optimizer.param_groups:\n",
        "        return param_group['lr']\n",
        "\n",
        "\n",
        "def fit_one_cycle(epochs, max_lr, model, train_loader, test_loader, weight_decay=0, grad_clip=None, opt_func = torch.optim.Adam):\n",
        "    torch.cuda.empty_cache()\n",
        "    history = []\n",
        "    optimizer = opt_func(model.parameters(), max_lr, weight_decay=weight_decay)\n",
        "    # set up one cycle lr scheduler\n",
        "    sched = torch.optim.lr_scheduler.OneCycleLR(optimizer, max_lr, epochs=epochs, steps_per_epoch=len(train_loader))\n",
        "\n",
        "    for epoch in range(epochs):\n",
        "\n",
        "        # Training phase\n",
        "        model.train()\n",
        "        # train_losses = []\n",
        "        train_accs = []  # to store training accuracies\n",
        "        lrs = []\n",
        "        for batch in tqdm(train_loader):\n",
        "            # print(f\"Debug - batch: {batch}\")  # Debug line 1\n",
        "            train_result = model.training_step(batch)\n",
        "            # print(f\"Debug - result: {result}\")  # Debug line 2\n",
        "            # print(f\"Debug - train_loss: {result['train_loss']}, train_acc: {result['train_acc']}\")  # Debug line\n",
        "            # train_losses.append(result['train_loss'])\n",
        "            train_accs.append(train_result['train_acc'])\n",
        "\n",
        "            # calculates gradients\n",
        "            train_result['train_loss'].backward()\n",
        "\n",
        "            # check gradient clipping\n",
        "            if grad_clip:\n",
        "                nn.utils.clip_grad_value_(model.parameters(), grad_clip)\n",
        "\n",
        "            # perform gradient descent and modifies the weights\n",
        "            optimizer.step()\n",
        "\n",
        "            # reset the gradients\n",
        "            optimizer.zero_grad()\n",
        "\n",
        "            # record and update lr\n",
        "            lrs.append(get_lr(optimizer))\n",
        "\n",
        "            # modifies the lr value\n",
        "            sched.step()\n",
        "\n",
        "        # Validation phase\n",
        "        result = evaluate(model, test_loader)\n",
        "        # result['train_loss'] = torch.stack(train_losses).mean().item()\n",
        "        result['train_acc'] = torch.stack(train_accs).mean().item()\n",
        "        # train_losses.append(result['train_loss'].item())  # Updated\n",
        "        # train_accs.append(result['train_acc'].item())  # Updated\n",
        "        result['lrs'] = lrs\n",
        "        model.epoch_end(epoch, result)\n",
        "        history.append(result)\n",
        "\n",
        "\n",
        "    return history\n",
        "\n",
        "\n",
        "\n",
        "@torch.no_grad()\n",
        "def evaluate(model, val_loader):\n",
        "    model.eval()\n",
        "    outputs = [model.validation_step(batch) for batch in val_loader]\n",
        "    return model.validation_epoch_end(outputs)"
      ],
      "metadata": {
        "id": "PqH0yVLTbIv-"
      },
      "execution_count": null,
      "outputs": []
    },
    {
      "cell_type": "code",
      "source": [
        "# Import necessary modules\n",
        "from torchvision.models import resnet18\n",
        "\n",
        "class CustomResNet18(nn.Module):\n",
        "    def __init__(self, num_classes):\n",
        "        super(CustomResNet18, self).__init__()\n",
        "        self.resnet18 = models.resnet18(pretrained=True)\n",
        "        in_features = self.resnet18.fc.in_features\n",
        "        self.resnet18.fc = nn.Linear(in_features, num_classes)\n",
        "\n",
        "    def training_step(self, batch):\n",
        "        img, targets = batch\n",
        "        out = self(img)\n",
        "        loss = F.cross_entropy(out, targets)\n",
        "        acc = accuracy(out, targets)\n",
        "        return {'train_loss': loss, 'train_acc': acc}\n",
        "\n",
        "    def validation_step(self, batch):\n",
        "        img, targets = batch\n",
        "        out = self(img)\n",
        "        loss = F.cross_entropy(out, targets)\n",
        "        acc = accuracy(out, targets)\n",
        "        return {'val_loss': loss.detach(), 'val_acc': acc.detach()}\n",
        "\n",
        "    def validation_epoch_end(self, outputs):\n",
        "        batch_losses = [x['val_loss'] for x in outputs]\n",
        "        epoch_loss = torch.stack(batch_losses).mean()\n",
        "        batch_accs = [x['val_acc'] for x in outputs]\n",
        "        epoch_acc = torch.stack(batch_accs).mean()\n",
        "        return {'val_loss': epoch_loss.item(), 'val_acc': epoch_acc.item()}\n",
        "\n",
        "    def test_step(self, batch):\n",
        "        img, targets = batch\n",
        "        out = self(img)\n",
        "        loss = F.cross_entropy(out, targets)\n",
        "        acc = accuracy(out, targets)\n",
        "        return {'test_loss': loss.detach(), 'test_acc': acc.detach()}\n",
        "\n",
        "    def test_epoch_end(self, outputs):\n",
        "        batch_losses = [x['test_loss'] for x in outputs]\n",
        "        epoch_loss = torch.stack(batch_losses).mean()\n",
        "        batch_accs = [x['test_acc'] for x in outputs]\n",
        "        epoch_acc = torch.stack(batch_accs).mean()\n",
        "        return {'test_loss': epoch_loss.item(), 'test_acc': epoch_acc.item()}\n",
        "\n",
        "    # print result end epoch\n",
        "    def epoch_end(self, epoch, result):\n",
        "        # print(\"Epoch [{}] : train_loss: {:.4f}, val_loss: {:.4f}, val_acc: {:.4f}\".format(epoch, result[\"train_loss\"], result[\"val_loss\"], result[\"val_acc\"]))\n",
        "        print(\"Epoch [{}] : train_acc: {:.4f}, val_acc: {:.4f}\".format(epoch, result[\"train_acc\"], result[\"val_acc\"]))\n",
        "\n",
        "    def forward(self, xb):\n",
        "        return self.resnet18(xb)"
      ],
      "metadata": {
        "id": "DKBwILuWjmkZ"
      },
      "execution_count": null,
      "outputs": []
    },
    {
      "cell_type": "code",
      "source": [
        "# Initialize pre-trained ResNet18 model\n",
        "resnet18_model = CustomResNet18(num_classes=7)\n",
        "\n",
        "# Fine-tuning the ResNet18 model\n",
        "num_epochs = 10\n",
        "max_lr = 0.001\n",
        "grad_clip = 0.1\n",
        "weight_decay = 1e-4\n",
        "opt_func = torch.optim.SGD"
      ],
      "metadata": {
        "id": "5HrwesmjMcZZ"
      },
      "execution_count": null,
      "outputs": []
    },
    {
      "cell_type": "code",
      "source": [
        "history_resnet18 = fit_one_cycle(num_epochs, max_lr, resnet18_model, train_dl, val_dl, weight_decay, grad_clip, opt_func)"
      ],
      "metadata": {
        "id": "7cINy2e_PVIj"
      },
      "execution_count": null,
      "outputs": []
    },
    {
      "cell_type": "code",
      "source": [
        "@torch.no_grad()\n",
        "def evaluate_test(model, test_loader):\n",
        "    model.eval()\n",
        "    outputs = [model.test_step(batch) for batch in test_loader]\n",
        "    return model.test_epoch_end(outputs)\n",
        "\n",
        "# Evaluate on the DBI test set\n",
        "dbi_results_resnet18 = evaluate_test(resnet18_model, test_dl)\n",
        "dbi_accuracy_resnet18 = dbi_results_resnet18['test_acc']\n",
        "print(dbi_accuracy_resnet18)"
      ],
      "metadata": {
        "id": "PR92CJOmPZ1B",
        "colab": {
          "base_uri": "https://localhost:8080/"
        },
        "outputId": "2cfc6ac8-e2ec-431b-f09f-95914de07414"
      },
      "execution_count": null,
      "outputs": [
        {
          "output_type": "stream",
          "name": "stdout",
          "text": [
            "0.9610576629638672\n"
          ]
        }
      ]
    },
    {
      "cell_type": "code",
      "source": [
        "sdd_results_resnet18 = evaluate_test(resnet18_model, sdd_dl)\n",
        "sdd_accuracy_resnet18 = sdd_results_resnet18['test_acc']"
      ],
      "metadata": {
        "id": "ZCdX8mYypA9R"
      },
      "execution_count": null,
      "outputs": []
    },
    {
      "cell_type": "code",
      "source": [
        "print(sdd_accuracy_resnet18)"
      ],
      "metadata": {
        "colab": {
          "base_uri": "https://localhost:8080/"
        },
        "id": "JyZnYG0qpcNW",
        "outputId": "6b8cf3e3-4b3a-440f-b956-9ef32028af10"
      },
      "execution_count": null,
      "outputs": [
        {
          "output_type": "stream",
          "name": "stdout",
          "text": [
            "0.8214505910873413\n"
          ]
        }
      ]
    },
    {
      "cell_type": "code",
      "source": [
        "print(dbi_accuracy_resnet18)"
      ],
      "metadata": {
        "colab": {
          "base_uri": "https://localhost:8080/"
        },
        "id": "0tJaPoCJpljo",
        "outputId": "81989db0-8420-4f0c-c724-0061392af5bf"
      },
      "execution_count": null,
      "outputs": [
        {
          "output_type": "stream",
          "name": "stdout",
          "text": [
            "0.9610576629638672\n"
          ]
        }
      ]
    },
    {
      "cell_type": "code",
      "source": [
        "# Import the necessary modules\n",
        "from torchvision.models import resnet34\n",
        "\n",
        "# Load the pre-trained ResNet34 model\n",
        "resnet34_model = resnet34(pretrained=True)\n",
        "\n",
        "# Modify the last layer to match the number of classes in the DBI dataset\n",
        "num_classes = 7\n",
        "resnet34_model.fc = nn.Linear(resnet34_model.fc.in_features, num_classes)\n",
        "\n",
        "# Define a custom ResNet34 class\n",
        "class CustomResNet34(nn.Module):\n",
        "    def __init__(self, num_classes):\n",
        "        super(CustomResNet34, self).__init__()\n",
        "        self.resnet34 = resnet34(pretrained=True)\n",
        "        in_features = self.resnet34.fc.in_features\n",
        "        self.resnet34.fc = nn.Linear(in_features, num_classes)\n",
        "\n",
        "    def forward(self, x):\n",
        "        return self.resnet34(x)\n",
        "\n",
        "    def training_step(self, batch):\n",
        "        img, targets = batch\n",
        "        out = self(img)\n",
        "        loss = F.cross_entropy(out, targets)\n",
        "        acc = accuracy(out, targets)\n",
        "        return {'train_loss': loss, 'train_acc': acc}\n",
        "\n",
        "    def validation_step(self, batch):\n",
        "        img, targets = batch\n",
        "        out = self(img)\n",
        "        loss = F.cross_entropy(out, targets)\n",
        "        acc = accuracy(out, targets)\n",
        "        return {'val_loss': loss.detach(), 'val_acc': acc.detach()}\n",
        "\n",
        "    def validation_epoch_end(self, outputs):\n",
        "        batch_losses = [x['val_loss'] for x in outputs]\n",
        "        epoch_loss = torch.stack(batch_losses).mean()\n",
        "        batch_accs = [x['val_acc'] for x in outputs]\n",
        "        epoch_acc = torch.stack(batch_accs).mean()\n",
        "        return {'val_loss': epoch_loss.item(), 'val_acc': epoch_acc.item()}\n",
        "\n",
        "    def test_step(self, batch):\n",
        "        img, targets = batch\n",
        "        out = self(img)\n",
        "        loss = F.cross_entropy(out, targets)\n",
        "        acc = accuracy(out, targets)\n",
        "        return {'test_loss': loss.detach(), 'test_acc': acc.detach()}\n",
        "\n",
        "    def test_epoch_end(self, outputs):\n",
        "        batch_losses = [x['test_loss'] for x in outputs]\n",
        "        epoch_loss = torch.stack(batch_losses).mean()\n",
        "        batch_accs = [x['test_acc'] for x in outputs]\n",
        "        epoch_acc = torch.stack(batch_accs).mean()\n",
        "        return {'test_loss': epoch_loss.item(), 'test_acc': epoch_acc.item()}\n",
        "\n",
        "    # print result end epoch\n",
        "    def epoch_end(self, epoch, result):\n",
        "        # print(\"Epoch [{}] : train_loss: {:.4f}, val_loss: {:.4f}, val_acc: {:.4f}\".format(epoch, result[\"train_loss\"], result[\"val_loss\"], result[\"val_acc\"]))\n",
        "        print(\"Epoch [{}] : train_acc: {:.4f}, val_acc: {:.4f}\".format(epoch, result[\"train_acc\"], result[\"val_acc\"]))\n",
        "\n",
        "# Initialize the custom ResNet34 model\n",
        "custom_resnet34_model = CustomResNet34(num_classes=num_classes)\n",
        "\n",
        "# Training parameters\n",
        "num_epochs = 10\n",
        "max_lr = 0.001\n",
        "grad_clip = 0.1\n",
        "weight_decay = 1e-4\n",
        "opt_func = torch.optim.SGD"
      ],
      "metadata": {
        "id": "VfsZdQX6RB-0",
        "colab": {
          "base_uri": "https://localhost:8080/"
        },
        "outputId": "66cb6cc7-6c8a-4de5-a3d0-6c9df0c24c2e"
      },
      "execution_count": null,
      "outputs": [
        {
          "output_type": "stream",
          "name": "stderr",
          "text": [
            "/usr/local/lib/python3.10/dist-packages/torchvision/models/_utils.py:223: UserWarning: Arguments other than a weight enum or `None` for 'weights' are deprecated since 0.13 and may be removed in the future. The current behavior is equivalent to passing `weights=ResNet34_Weights.IMAGENET1K_V1`. You can also use `weights=ResNet34_Weights.DEFAULT` to get the most up-to-date weights.\n",
            "  warnings.warn(msg)\n"
          ]
        }
      ]
    },
    {
      "cell_type": "code",
      "source": [
        "# Train the model\n",
        "history_resnet34 = fit_one_cycle(num_epochs, max_lr, custom_resnet34_model, train_dl, val_dl, weight_decay, grad_clip, opt_func)"
      ],
      "metadata": {
        "colab": {
          "base_uri": "https://localhost:8080/",
          "height": 516,
          "referenced_widgets": [
            "e5ee8d17961745ee850cca2c2ab89b02",
            "99e11b678e35427d913483c40bf95b8f",
            "fb4c9754e55c44b199e92d8e4a697f4a",
            "1ce3942be8bc428a977ae3a899dbff0c",
            "e2829213f39f4322b7982908c702daa5",
            "dce23ae3778a4f41ae23a2f576898e01",
            "76d36eec0ed44c1dbc8a79409463fb83",
            "1a110e6d8cb048598f0ff6ea444c14c3",
            "56f1260be36e43ffa2b92afae3a368b0",
            "050838ed6fc74ab3a28f489a21e839a6",
            "b78ce582b3014eed9590e62588fe86ac",
            "d2915b21397e4eae83299e822223d4b7",
            "1a687d00edcc4070aba87e3ccb8155ba",
            "9f71f27f0749442a99ee8dba9a3ec05f",
            "b0bc5e4c8a8b4bd6b0113b9c1006663c",
            "61202b56ecca47f6964489f3089c1dcd",
            "865327f3d14e4c4e92fd753a0daf2607",
            "91d7e0fd4dec460eb306784a30c3ddde",
            "c47f1c3c2f00404cad816524e403f465",
            "843ba9e24a4e4defa8c9c3bc5eeeb7bb",
            "db780d1200a64da28d8271b28e39f3a8",
            "3a6387f095de478da334822f2b8b05ce",
            "33e2703bdf37408691f62651defd3ba0",
            "fe1d8f2843214ed3afb26765a62fbb53",
            "a0ff7984d4de4224aedfc0d8748b3296",
            "c1fb7eb682c740bbb474eacdf9a0a0ac",
            "42f5f0a9c3394b49a91a139bac3f331d",
            "64c15a0e23a547b5836016e442a1384b",
            "1047f1825eb44aa2b1ec096746a80c28",
            "395048396aca40f895440ca19eec1cd5",
            "d7b770d908ba491b80088db680c6f719",
            "7a8194bb4c424df0921d718cc35815a9",
            "4a3c3261562942c2b6f21e7fbe5f65e1",
            "4fff105eab7a41cf8944192d6a0caa77",
            "3441f522efdf4b1fa48033196a72501c",
            "234e26433b4c421d951559037ba102fc",
            "d783e9a80e164050bc4338c7dcad5214",
            "46331d2886e24746b14826497241b513",
            "1cc12006e96e4fa09bcce6121840e8b9",
            "1eb6b0e4a6c540cb9315f0196562a459",
            "bca247c491204009b5b739a9d57d2c5d",
            "27cc961a82954747a82b985141cb26e7",
            "2c138c6e01e943c2bf6b4ce53f9c0efe",
            "31b7720578d442f28f413792346c0626",
            "b6b946a9ec0149e79f42c2ce0b24f557",
            "ae7014f634d04564809a9eb63ddcb368",
            "007f84590fce440190bfa39560e8aa87",
            "af739cd5efe24af5879d5a57d1f39b31",
            "7cf271e850de41bc8a1cce62a4d2d1a3",
            "bd4c59365a8443a08141b0a590d0cce8",
            "b0e42a7ffa8141c1a4256147c91d3375",
            "d06046bea496438d9bbe4b8651f637ae",
            "f1529f5bf4614aeb8712cfb305ce6a18",
            "3cf0f671c4ce4d36a7a0a8fc8f3c9966",
            "709797c49e9444fc963c6a18d56b8ef9",
            "a17ecb815f564571aade4e8f885c2e33",
            "f83fe8fb5ca74e1691d20738062d3dad",
            "01e927e706f74c6aab265372083c14ed",
            "f1ea1517f61a4bfe8d44e2fe6c4896c8",
            "4843211d266748e0a0ce1ce72829670d",
            "0643542131e54f29ae79fadf220b3705",
            "fd5c9ca5a6174afebe9088512767be20",
            "9a0105b39b0a451b83d013904ee02b8f",
            "81a069ed5ee843e9b0e6f7d64be04c92",
            "c193c1e97e464b0b862b5e94eb75de6b",
            "68c86e4a21c14603b9a6d1a7ece928b8",
            "5e43c8ea0ca64c1ea215574dc9f9e435",
            "2d2d26be53f3430c9290c5df950a6348",
            "5eaa98ba3dba44b5b8630ce30f870700",
            "305497e6800f49228bb442e3c23ab6ac",
            "6db1eca4eba14f2f9c958a494d98183c",
            "e057108859834d249f6311a12c37468f",
            "5871332e7b684a85932d9aff086521df",
            "599771b75d1e429eb02e09927a792b37",
            "63a143b2c33e4041a52ab5ae9b3cfc09",
            "1ca38d932a254a08b82f5b10b30dfbaf",
            "2f1ed94cfe8e44beae0037a8492d03a9",
            "ebbfddd57fb947579eb4663db67f6712",
            "8c6aa6f6f8074ac09d7aa2e81dda5ded",
            "c8e3dcb2cb3b4917ab7d21a79e082f61",
            "de39665d5a564940bf34b682870b7b07",
            "43645ba1662d43a080cf813fa9350ef5",
            "4be719b0182e40d69952a594ed65c47b",
            "8ada0fc327f2444abb7820dd2a02cc4b",
            "d07fc42346ef4fa8b4b72b80c0ab3db0",
            "020ecfa24ac44c349bfc6a6dbf642c0a",
            "a0f1ab38fd7b4337b7267b8b3a104206",
            "e104199ebd91459786b6f77d4321a228",
            "d8ceecb00b2941d6bb3e1d5087e22a1d",
            "820630b02b1044f4a27e81b28d5b086c",
            "c8aeea45ffe94031afb5d95364cf099a",
            "ac3d9570b92f4a91b4986dc8c5bb0fd3",
            "c1d9688e0e5d406fb3e164beea5730cd",
            "c1a45dd69c924e8c9f1ca1fb713045bd",
            "771208e3eb3545149f05ade5d72f134d",
            "f55066903d594980a0878718e1281e2e",
            "dd05d7a0e75d4b219a9aff4139f68a64",
            "2af18386031843a0b10a3adadc29043d",
            "6dd9d64d6ee9406dac5af40fcc60e146",
            "4f8921b0a595403486c13d568cadebff",
            "60bcbcb8a5f14d988543031acd1c93de",
            "48a08c0fef6e4b1fa08e2b770e633811",
            "6deb542ab60246199ad0f7b6f039b558",
            "2e14f36fc62c40dd9a25ab2f2610a3e7",
            "f4c155de7e474ca58bc96253b99a36a9",
            "9faace1b7f3b485d867026ed60363cc1",
            "67c47998cd174e878e8c7ee6f63ec5d7",
            "d1672c0d284c465a8a402d7223f8a328",
            "d0c6ecee02d6428097d9f6914629db2f",
            "7400fe2926264ee6a012fc2bcbb1e7b6"
          ]
        },
        "id": "Pe2uLu3wXNPQ",
        "outputId": "6a6ae3c0-5479-48ba-b154-4492f869177b"
      },
      "execution_count": null,
      "outputs": [
        {
          "output_type": "display_data",
          "data": {
            "text/plain": [
              "  0%|          | 0/7 [00:00<?, ?it/s]"
            ],
            "application/vnd.jupyter.widget-view+json": {
              "version_major": 2,
              "version_minor": 0,
              "model_id": "e5ee8d17961745ee850cca2c2ab89b02"
            }
          },
          "metadata": {}
        },
        {
          "output_type": "stream",
          "name": "stdout",
          "text": [
            "Epoch [0] : train_acc: 0.1749, val_acc: 0.2667\n"
          ]
        },
        {
          "output_type": "display_data",
          "data": {
            "text/plain": [
              "  0%|          | 0/7 [00:00<?, ?it/s]"
            ],
            "application/vnd.jupyter.widget-view+json": {
              "version_major": 2,
              "version_minor": 0,
              "model_id": "d2915b21397e4eae83299e822223d4b7"
            }
          },
          "metadata": {}
        },
        {
          "output_type": "stream",
          "name": "stdout",
          "text": [
            "Epoch [1] : train_acc: 0.2626, val_acc: 0.5333\n"
          ]
        },
        {
          "output_type": "display_data",
          "data": {
            "text/plain": [
              "  0%|          | 0/7 [00:00<?, ?it/s]"
            ],
            "application/vnd.jupyter.widget-view+json": {
              "version_major": 2,
              "version_minor": 0,
              "model_id": "33e2703bdf37408691f62651defd3ba0"
            }
          },
          "metadata": {}
        },
        {
          "output_type": "stream",
          "name": "stdout",
          "text": [
            "Epoch [2] : train_acc: 0.6607, val_acc: 0.8000\n"
          ]
        },
        {
          "output_type": "display_data",
          "data": {
            "text/plain": [
              "  0%|          | 0/7 [00:00<?, ?it/s]"
            ],
            "application/vnd.jupyter.widget-view+json": {
              "version_major": 2,
              "version_minor": 0,
              "model_id": "4fff105eab7a41cf8944192d6a0caa77"
            }
          },
          "metadata": {}
        },
        {
          "output_type": "stream",
          "name": "stdout",
          "text": [
            "Epoch [3] : train_acc: 0.8921, val_acc: 0.9778\n"
          ]
        },
        {
          "output_type": "display_data",
          "data": {
            "text/plain": [
              "  0%|          | 0/7 [00:00<?, ?it/s]"
            ],
            "application/vnd.jupyter.widget-view+json": {
              "version_major": 2,
              "version_minor": 0,
              "model_id": "b6b946a9ec0149e79f42c2ce0b24f557"
            }
          },
          "metadata": {}
        },
        {
          "output_type": "stream",
          "name": "stdout",
          "text": [
            "Epoch [4] : train_acc: 0.9182, val_acc: 1.0000\n"
          ]
        },
        {
          "output_type": "display_data",
          "data": {
            "text/plain": [
              "  0%|          | 0/7 [00:00<?, ?it/s]"
            ],
            "application/vnd.jupyter.widget-view+json": {
              "version_major": 2,
              "version_minor": 0,
              "model_id": "a17ecb815f564571aade4e8f885c2e33"
            }
          },
          "metadata": {}
        },
        {
          "output_type": "stream",
          "name": "stdout",
          "text": [
            "Epoch [5] : train_acc: 0.9412, val_acc: 1.0000\n"
          ]
        },
        {
          "output_type": "display_data",
          "data": {
            "text/plain": [
              "  0%|          | 0/7 [00:00<?, ?it/s]"
            ],
            "application/vnd.jupyter.widget-view+json": {
              "version_major": 2,
              "version_minor": 0,
              "model_id": "5e43c8ea0ca64c1ea215574dc9f9e435"
            }
          },
          "metadata": {}
        },
        {
          "output_type": "stream",
          "name": "stdout",
          "text": [
            "Epoch [6] : train_acc: 0.9449, val_acc: 0.9778\n"
          ]
        },
        {
          "output_type": "display_data",
          "data": {
            "text/plain": [
              "  0%|          | 0/7 [00:00<?, ?it/s]"
            ],
            "application/vnd.jupyter.widget-view+json": {
              "version_major": 2,
              "version_minor": 0,
              "model_id": "ebbfddd57fb947579eb4663db67f6712"
            }
          },
          "metadata": {}
        },
        {
          "output_type": "stream",
          "name": "stdout",
          "text": [
            "Epoch [7] : train_acc: 0.9576, val_acc: 1.0000\n"
          ]
        },
        {
          "output_type": "display_data",
          "data": {
            "text/plain": [
              "  0%|          | 0/7 [00:00<?, ?it/s]"
            ],
            "application/vnd.jupyter.widget-view+json": {
              "version_major": 2,
              "version_minor": 0,
              "model_id": "d8ceecb00b2941d6bb3e1d5087e22a1d"
            }
          },
          "metadata": {}
        },
        {
          "output_type": "stream",
          "name": "stdout",
          "text": [
            "Epoch [8] : train_acc: 0.9665, val_acc: 1.0000\n"
          ]
        },
        {
          "output_type": "display_data",
          "data": {
            "text/plain": [
              "  0%|          | 0/7 [00:00<?, ?it/s]"
            ],
            "application/vnd.jupyter.widget-view+json": {
              "version_major": 2,
              "version_minor": 0,
              "model_id": "4f8921b0a595403486c13d568cadebff"
            }
          },
          "metadata": {}
        },
        {
          "output_type": "stream",
          "name": "stdout",
          "text": [
            "Epoch [9] : train_acc: 0.9635, val_acc: 1.0000\n"
          ]
        }
      ]
    },
    {
      "cell_type": "code",
      "source": [
        "# Evaluate on the DBI test set\n",
        "dbi_results_resnet34 = evaluate_test(custom_resnet34_model, test_dl)\n",
        "dbi_accuracy_resnet34 = dbi_results_resnet34['test_acc']\n",
        "print(dbi_accuracy_resnet34)"
      ],
      "metadata": {
        "colab": {
          "base_uri": "https://localhost:8080/"
        },
        "id": "99BZSjIhqQwZ",
        "outputId": "13548835-c344-49f5-bd09-1acb2673e5d8"
      },
      "execution_count": null,
      "outputs": [
        {
          "output_type": "stream",
          "name": "stdout",
          "text": [
            "0.9844951629638672\n"
          ]
        }
      ]
    },
    {
      "cell_type": "code",
      "source": [
        "# Evaluate on the SDD data set\n",
        "sdd_results_resnet34 = evaluate_test(custom_resnet34_model, sdd_dl)\n",
        "sdd_accuracy_resnet34 = sdd_results_resnet34['test_acc']"
      ],
      "metadata": {
        "id": "7LOfPHimqS_h"
      },
      "execution_count": null,
      "outputs": []
    },
    {
      "cell_type": "code",
      "source": [
        "print(sdd_accuracy_resnet34)"
      ],
      "metadata": {
        "colab": {
          "base_uri": "https://localhost:8080/"
        },
        "id": "opDZWKkEqdN1",
        "outputId": "2033abc7-f21e-42d2-e121-2566560eb86e"
      },
      "execution_count": null,
      "outputs": [
        {
          "output_type": "stream",
          "name": "stdout",
          "text": [
            "0.8595293164253235\n"
          ]
        }
      ]
    },
    {
      "cell_type": "code",
      "source": [
        "print(dbi_accuracy_resnet34)"
      ],
      "metadata": {
        "colab": {
          "base_uri": "https://localhost:8080/"
        },
        "id": "jsT7ftLPqetQ",
        "outputId": "524e832c-6842-454a-ed5f-27d0adcc2430"
      },
      "execution_count": null,
      "outputs": [
        {
          "output_type": "stream",
          "name": "stdout",
          "text": [
            "0.9844951629638672\n"
          ]
        }
      ]
    },
    {
      "cell_type": "code",
      "source": [
        "# Import necessary modules\n",
        "import torch\n",
        "import torch.nn as nn\n",
        "import torch.nn.functional as F\n",
        "import torch.optim as optim\n",
        "from torchvision import models\n",
        "\n",
        "class CustomResNeXt50(nn.Module):\n",
        "    def __init__(self, num_classes=7):\n",
        "        super(CustomResNeXt50, self).__init__()\n",
        "        self.resnext50 = models.resnext50_32x4d(pretrained=True)\n",
        "        in_features = self.resnext50.fc.in_features\n",
        "        self.resnext50.fc = nn.Linear(in_features, num_classes)\n",
        "\n",
        "    def forward(self, x):\n",
        "        return self.resnext50(x)"
      ],
      "metadata": {
        "id": "TUTc0Umc0rAN"
      },
      "execution_count": null,
      "outputs": []
    },
    {
      "cell_type": "code",
      "source": [
        "# Assuming smaller batch size for DataLoader\n",
        "train_dl = DataLoader(train_dataset, batch_size=64, shuffle=True)\n",
        "test_dl = DataLoader(test_dataset, batch_size=64, shuffle=False)\n",
        "sdd_dl = DataLoader(sdd_dataset, batch_size=64, shuffle=False)"
      ],
      "metadata": {
        "id": "W2uM88yOEM0D"
      },
      "execution_count": null,
      "outputs": []
    },
    {
      "cell_type": "code",
      "source": [
        "# Initialize the custom ResNeXt50 model\n",
        "custom_resnext50_model = CustomResNeXt50(num_classes=7)\n",
        "optimizer_resnext50 = optim.Adam(custom_resnext50_model.parameters(), lr=0.001)"
      ],
      "metadata": {
        "colab": {
          "base_uri": "https://localhost:8080/"
        },
        "id": "9aYDR-pqBQwP",
        "outputId": "eeca2d71-9db4-474b-daa8-336fd786d269"
      },
      "execution_count": null,
      "outputs": [
        {
          "output_type": "stream",
          "name": "stderr",
          "text": [
            "/usr/local/lib/python3.10/dist-packages/torchvision/models/_utils.py:208: UserWarning: The parameter 'pretrained' is deprecated since 0.13 and may be removed in the future, please use 'weights' instead.\n",
            "  warnings.warn(\n",
            "/usr/local/lib/python3.10/dist-packages/torchvision/models/_utils.py:223: UserWarning: Arguments other than a weight enum or `None` for 'weights' are deprecated since 0.13 and may be removed in the future. The current behavior is equivalent to passing `weights=ResNeXt50_32X4D_Weights.IMAGENET1K_V1`. You can also use `weights=ResNeXt50_32X4D_Weights.DEFAULT` to get the most up-to-date weights.\n",
            "  warnings.warn(msg)\n",
            "Downloading: \"https://download.pytorch.org/models/resnext50_32x4d-7cdf4587.pth\" to /root/.cache/torch/hub/checkpoints/resnext50_32x4d-7cdf4587.pth\n",
            "100%|██████████| 95.8M/95.8M [00:00<00:00, 177MB/s]\n"
          ]
        }
      ]
    },
    {
      "cell_type": "code",
      "source": [
        "from tqdm import tqdm\n",
        "\n",
        "# Outer loop for epochs with its own progress bar\n",
        "for epoch in tqdm(range(10), desc=\"Epochs\"):\n",
        "    custom_resnext50_model.train()\n",
        "\n",
        "    # Inner loop for mini-batches with its own progress bar\n",
        "    for i, data in tqdm(enumerate(train_dl), desc=\"Mini-batches\", leave=False):\n",
        "        inputs, labels = data\n",
        "        optimizer_resnext50.zero_grad()\n",
        "        outputs = custom_resnext50_model(inputs)\n",
        "        loss = F.cross_entropy(outputs, labels)\n",
        "        loss.backward()\n",
        "        optimizer_resnext50.step()"
      ],
      "metadata": {
        "id": "-_Ov3KPDBoc9"
      },
      "execution_count": null,
      "outputs": []
    },
    {
      "cell_type": "code",
      "source": [
        "# Evaluation function\n",
        "def evaluate_test(model, test_loader):\n",
        "    model.eval()\n",
        "    test_loss = 0\n",
        "    correct = 0\n",
        "    with torch.no_grad():\n",
        "        for data, target in test_loader:\n",
        "            output = model(data)\n",
        "            test_loss += F.cross_entropy(output, target).item()\n",
        "            pred = output.argmax(dim=1, keepdim=True)\n",
        "            correct += pred.eq(target.view_as(pred)).sum().item()\n",
        "    test_loss /= len(test_loader.dataset)\n",
        "    accuracy = 100. * correct / len(test_loader.dataset)\n",
        "    return {'test_loss': test_loss, 'test_acc': accuracy}"
      ],
      "metadata": {
        "id": "3N8fqY9EBnRa"
      },
      "execution_count": null,
      "outputs": []
    },
    {
      "cell_type": "code",
      "source": [
        "# Evaluate on the DBI test set\n",
        "dbi_results_resnext50 = evaluate_test(custom_resnext50_model, test_dl)\n",
        "dbi_accuracy_resnext50 = dbi_results_resnext50['test_acc']\n",
        "print(dbi_accuracy_resnext50)\n",
        "\n",
        "# Evaluate on the SDD data set\n",
        "sdd_results_resnext50 = evaluate_test(custom_resnext50_model, sdd_dl)\n",
        "sdd_accuracy_resnext50 = sdd_results_resnext50['test_acc']\n",
        "print(sdd_accuracy_resnext50)"
      ],
      "metadata": {
        "id": "vvgJwL45BTzt",
        "colab": {
          "base_uri": "https://localhost:8080/"
        },
        "outputId": "0ffaae73-6017-4914-9b42-2584d618e436"
      },
      "execution_count": null,
      "outputs": [
        {
          "output_type": "stream",
          "name": "stdout",
          "text": [
            "52.33160621761658\n",
            "40.957015409570154\n"
          ]
        }
      ]
    },
    {
      "cell_type": "code",
      "source": [
        "print(sdd_accuracy_resnext50)"
      ],
      "metadata": {
        "colab": {
          "base_uri": "https://localhost:8080/"
        },
        "id": "pGP2ibJrVM0y",
        "outputId": "6a3a3f7c-fcac-4292-8501-fddcb6a8601b"
      },
      "execution_count": null,
      "outputs": [
        {
          "output_type": "stream",
          "name": "stdout",
          "text": [
            "40.957015409570154\n"
          ]
        }
      ]
    },
    {
      "cell_type": "code",
      "source": [
        "print(dbi_accuracy_resnext50)"
      ],
      "metadata": {
        "colab": {
          "base_uri": "https://localhost:8080/"
        },
        "id": "stNiRmiEVNKr",
        "outputId": "052e7896-4bfb-4f78-83de-608a947d80e1"
      },
      "execution_count": null,
      "outputs": [
        {
          "output_type": "stream",
          "name": "stdout",
          "text": [
            "52.33160621761658\n"
          ]
        }
      ]
    },
    {
      "cell_type": "code",
      "source": [
        "!pip install timm\n",
        "import timm\n",
        "import torch\n",
        "import torch.nn as nn\n",
        "import torch.nn.functional as F\n",
        "from torch.utils.data import DataLoader\n",
        "from tqdm import tqdm"
      ],
      "metadata": {
        "id": "njpWBGV3XXW3"
      },
      "execution_count": null,
      "outputs": []
    },
    {
      "cell_type": "code",
      "source": [
        "# Define a custom class for SwinTransformer (tiny)\n",
        "class CustomSwinTransformerTiny(nn.Module):\n",
        "    def __init__(self, num_classes):\n",
        "        super(CustomSwinTransformerTiny, self).__init__()\n",
        "        self.swin_tiny = timm.create_model(\"swin_tiny_patch4_window7_224\", pretrained=True)\n",
        "        self.num_classes = num_classes\n",
        "        in_features = self.swin_tiny.head.in_features\n",
        "        self.swin_tiny.head = nn.Linear(in_features, self.num_classes)\n",
        "\n",
        "    def forward(self, x):\n",
        "        x = self.swin_tiny(x)  # Output shape: [batch_size, 7, 7, 7]\n",
        "        x = x.mean(dim=[2, 3])  # Take the mean along the spatial dimensions\n",
        "        return x\n",
        "\n",
        "# Initialize the custom Swin Transformer model\n",
        "num_classes = 7\n",
        "custom_swin_tiny_model = CustomSwinTransformerTiny(num_classes=num_classes)\n",
        "\n",
        "# Optimizer\n",
        "optimizer_swin_tiny = torch.optim.Adam(custom_swin_tiny_model.parameters(), lr=0.001)"
      ],
      "metadata": {
        "id": "by-asUP4Vm6-"
      },
      "execution_count": null,
      "outputs": []
    },
    {
      "cell_type": "code",
      "source": [
        "# Training loop\n",
        "for epoch in tqdm(range(10)):  # 10 epochs\n",
        "    custom_swin_tiny_model.train()\n",
        "    for i, data in enumerate(train_dl, 0):\n",
        "        inputs, labels = data\n",
        "        # print(f\"Debug - inputs shape: {inputs.shape}, labels shape: {labels.shape}\")  # Debug line\n",
        "        optimizer_swin_tiny.zero_grad()\n",
        "        outputs = custom_swin_tiny_model(inputs)\n",
        "        # print(f\"Outputs shape: {outputs.shape}, Labels shape: {labels.shape}\")\n",
        "        # print(f\"Debug - outputs shape: {outputs.shape}\")  # Debug line\n",
        "\n",
        "        loss = F.cross_entropy(outputs, labels)\n",
        "        loss.backward()\n",
        "        optimizer_swin_tiny.step()"
      ],
      "metadata": {
        "colab": {
          "base_uri": "https://localhost:8080/"
        },
        "id": "g0jXR0e9WBw5",
        "outputId": "d00b79e3-1b0f-49f7-ae23-b126a5c73d16"
      },
      "execution_count": null,
      "outputs": [
        {
          "output_type": "stream",
          "name": "stderr",
          "text": [
            "100%|██████████| 10/10 [10:31<00:00, 63.20s/it]\n"
          ]
        }
      ]
    },
    {
      "cell_type": "code",
      "source": [
        "# Assuming evaluate_test is a function that evaluates the model\n",
        "dbi_results_swin_tiny = evaluate_test(custom_swin_tiny_model, test_dl)\n",
        "dbi_accuracy_swin_tiny = dbi_results_swin_tiny['test_acc']\n",
        "print(dbi_accuracy_swin_tiny)\n",
        "\n",
        "# Evaluate on the SDD dataset\n",
        "sdd_results_swin_tiny = evaluate_test(custom_swin_tiny_model, sdd_dl)\n",
        "sdd_accuracy_swin_tiny = sdd_results_swin_tiny['test_acc']\n",
        "print(sdd_accuracy_swin_tiny)"
      ],
      "metadata": {
        "colab": {
          "base_uri": "https://localhost:8080/"
        },
        "id": "2zCuc-pjWKsZ",
        "outputId": "5cbea776-9041-441d-ae8d-70ec6a779892"
      },
      "execution_count": null,
      "outputs": [
        {
          "output_type": "stream",
          "name": "stdout",
          "text": [
            "23.316062176165804\n",
            "17.59935117599351\n"
          ]
        }
      ]
    },
    {
      "cell_type": "code",
      "source": [
        "print(sdd_accuracy_swin_tiny)"
      ],
      "metadata": {
        "colab": {
          "base_uri": "https://localhost:8080/"
        },
        "id": "kHA-gpOEb8Pn",
        "outputId": "1f91ddff-381c-4a3a-c7a2-792a05235190"
      },
      "execution_count": null,
      "outputs": [
        {
          "output_type": "stream",
          "name": "stdout",
          "text": [
            "17.59935117599351\n"
          ]
        }
      ]
    },
    {
      "cell_type": "code",
      "source": [
        "print(dbi_accuracy_swin_tiny)"
      ],
      "metadata": {
        "colab": {
          "base_uri": "https://localhost:8080/"
        },
        "id": "7mD1GuU0b9G3",
        "outputId": "a3665202-c365-45f5-8839-80a26addce5f"
      },
      "execution_count": null,
      "outputs": [
        {
          "output_type": "stream",
          "name": "stdout",
          "text": [
            "23.316062176165804\n"
          ]
        }
      ]
    },
    {
      "cell_type": "code",
      "source": [
        "from torchvision import models\n",
        "\n",
        "class CustomMobileNetV2(nn.Module):\n",
        "    def __init__(self, num_classes):\n",
        "        super(CustomMobileNetV2, self).__init__()\n",
        "        self.mobilenet = models.mobilenet_v2(pretrained=True)\n",
        "        in_features = self.mobilenet.classifier[1].in_features\n",
        "        self.mobilenet.classifier[1] = nn.Linear(in_features, num_classes)\n",
        "\n",
        "    def forward(self, x):\n",
        "        return self.mobilenet(x)\n",
        "\n",
        "# Initialize the custom MobileNetV2 model\n",
        "num_classes = 7\n",
        "custom_mobilenet_model = CustomMobileNetV2(num_classes=num_classes)\n",
        "\n",
        "# Optimizer\n",
        "optimizer_mobilenet = torch.optim.Adam(custom_mobilenet_model.parameters(), lr=0.001)"
      ],
      "metadata": {
        "colab": {
          "base_uri": "https://localhost:8080/"
        },
        "id": "JKoYIzdQcRPg",
        "outputId": "2850bd65-1bc3-49d9-96ae-4a008237f916"
      },
      "execution_count": null,
      "outputs": [
        {
          "output_type": "stream",
          "name": "stderr",
          "text": [
            "/usr/local/lib/python3.10/dist-packages/torchvision/models/_utils.py:208: UserWarning: The parameter 'pretrained' is deprecated since 0.13 and may be removed in the future, please use 'weights' instead.\n",
            "  warnings.warn(\n",
            "/usr/local/lib/python3.10/dist-packages/torchvision/models/_utils.py:223: UserWarning: Arguments other than a weight enum or `None` for 'weights' are deprecated since 0.13 and may be removed in the future. The current behavior is equivalent to passing `weights=MobileNet_V2_Weights.IMAGENET1K_V1`. You can also use `weights=MobileNet_V2_Weights.DEFAULT` to get the most up-to-date weights.\n",
            "  warnings.warn(msg)\n",
            "Downloading: \"https://download.pytorch.org/models/mobilenet_v2-b0353104.pth\" to /root/.cache/torch/hub/checkpoints/mobilenet_v2-b0353104.pth\n",
            "100%|██████████| 13.6M/13.6M [00:00<00:00, 88.6MB/s]\n"
          ]
        }
      ]
    },
    {
      "cell_type": "code",
      "source": [
        "# Training loop\n",
        "for epoch in tqdm(range(10)):  # 10 epochs\n",
        "    custom_mobilenet_model.train()\n",
        "    for i, data in enumerate(train_dl, 0):\n",
        "        inputs, labels = data\n",
        "        optimizer_mobilenet.zero_grad()\n",
        "        outputs = custom_mobilenet_model(inputs)\n",
        "        loss = F.cross_entropy(outputs, labels)\n",
        "        loss.backward()\n",
        "        optimizer_mobilenet.step()"
      ],
      "metadata": {
        "colab": {
          "base_uri": "https://localhost:8080/"
        },
        "id": "FZeWHkhgcqHr",
        "outputId": "07d201b2-d8d9-436f-a0db-630abfbc4242"
      },
      "execution_count": null,
      "outputs": [
        {
          "output_type": "stream",
          "name": "stderr",
          "text": [
            "100%|██████████| 10/10 [04:49<00:00, 28.96s/it]\n"
          ]
        }
      ]
    },
    {
      "cell_type": "code",
      "source": [
        "dbi_results_mobilenet = evaluate_test(custom_mobilenet_model, test_dl)\n",
        "dbi_accuracy_mobilenet = dbi_results_mobilenet['test_acc']\n",
        "print(dbi_accuracy_mobilenet)\n",
        "\n",
        "sdd_results_mobilenet = evaluate_test(custom_mobilenet_model, sdd_dl)\n",
        "sdd_accuracy_mobilenet = sdd_results_mobilenet['test_acc']\n",
        "print(sdd_accuracy_mobilenet)"
      ],
      "metadata": {
        "colab": {
          "base_uri": "https://localhost:8080/"
        },
        "id": "Xd4WFpGfc2E8",
        "outputId": "8e10779c-c3d2-437e-f674-7da13636c138"
      },
      "execution_count": null,
      "outputs": [
        {
          "output_type": "stream",
          "name": "stdout",
          "text": [
            "90.67357512953367\n",
            "74.69586374695864\n"
          ]
        }
      ]
    },
    {
      "cell_type": "code",
      "source": [
        "print(sdd_accuracy_mobilenet)"
      ],
      "metadata": {
        "colab": {
          "base_uri": "https://localhost:8080/"
        },
        "id": "OQw_wvfHc-wG",
        "outputId": "7bbfa748-9c9a-4966-9af8-58b593b6b79c"
      },
      "execution_count": null,
      "outputs": [
        {
          "output_type": "stream",
          "name": "stdout",
          "text": [
            "74.69586374695864\n"
          ]
        }
      ]
    },
    {
      "cell_type": "code",
      "source": [
        "print(dbi_accuracy_mobilenet)"
      ],
      "metadata": {
        "colab": {
          "base_uri": "https://localhost:8080/"
        },
        "id": "tbsWjV_5c_xL",
        "outputId": "02f40c8a-6488-4871-bb1b-2ae880f9e628"
      },
      "execution_count": null,
      "outputs": [
        {
          "output_type": "stream",
          "name": "stdout",
          "text": [
            "90.67357512953367\n"
          ]
        }
      ]
    },
    {
      "cell_type": "code",
      "source": [
        "import matplotlib.pyplot as plt\n",
        "import numpy as np\n",
        "\n",
        "# Data\n",
        "models = ['ResNet18', 'ResNet34', 'ResNeXt50', 'SwinTiny', 'MobileNet']\n",
        "sdd_accuracies = [0.821, 0.860, 0.410, 0.176, 0.747]\n",
        "dbi_accuracies = [0.961, 0.984, 0.523, 0.233, 0.907]\n",
        "\n",
        "# Create a bar plot for the SDD and DBI accuracies\n",
        "x = np.arange(len(models))  # the label locations\n",
        "width = 0.35  # the width of the bars\n",
        "\n",
        "fig, ax = plt.subplots()\n",
        "\n",
        "rects1 = ax.bar(x - width/2, sdd_accuracies, width, label='SDD Accuracy')\n",
        "rects2 = ax.bar(x + width/2, dbi_accuracies, width, label='DBI Accuracy')\n",
        "\n",
        "# Add some text for labels, title and custom x-axis tick labels, etc.\n",
        "ax.set_ylabel('Accuracy')\n",
        "ax.set_title('Model Performance on SDD and DBI Datasets')\n",
        "ax.set_xticks(x)\n",
        "ax.set_xticklabels(models)\n",
        "ax.legend()\n",
        "\n",
        "# Label with percentage\n",
        "def autolabel(rects):\n",
        "    for rect in rects:\n",
        "        height = rect.get_height()\n",
        "        ax.annotate(f'{height:.2f}',\n",
        "                    xy=(rect.get_x() + rect.get_width() / 2, height),\n",
        "                    xytext=(0, 3),  # 3 points vertical offset\n",
        "                    textcoords=\"offset points\",\n",
        "                    ha='center', va='bottom')\n",
        "\n",
        "autolabel(rects1)\n",
        "autolabel(rects2)\n",
        "\n",
        "plt.savefig('task4_plt.png')\n",
        "plt.show()"
      ],
      "metadata": {
        "colab": {
          "base_uri": "https://localhost:8080/",
          "height": 452
        },
        "id": "ydfdck_zfLq_",
        "outputId": "41c0379f-195b-41ed-9c0c-5dbb0fcbd110"
      },
      "execution_count": null,
      "outputs": [
        {
          "output_type": "display_data",
          "data": {
            "text/plain": [
              "<Figure size 640x480 with 1 Axes>"
            ],
            "image/png": "[encoded data removed]"
          },
          "metadata": {}
        }
      ]
    },
    {
      "cell_type": "markdown",
      "source": [
        "Task V"
      ],
      "metadata": {
        "id": "4tN5OjhGk2Vc"
      }
    },
    {
      "cell_type": "code",
      "source": [
        "import os\n",
        "import shutil\n",
        "import random\n",
        "from sklearn.model_selection import train_test_split\n",
        "\n",
        "def split_and_combine_datasets(dbi_path, sdd_path, train_ratio=0.8):\n",
        "    # Directories for combined datasets\n",
        "    combined_train = 'combined_dataset/train'\n",
        "    combined_test = 'combined_dataset/test'\n",
        "\n",
        "    # Create these directories\n",
        "    os.makedirs(f'{combined_train}/DBI', exist_ok=True)\n",
        "    os.makedirs(f'{combined_train}/SDD', exist_ok=True)\n",
        "    os.makedirs(f'{combined_test}/DBI', exist_ok=True)\n",
        "    os.makedirs(f'{combined_test}/SDD', exist_ok=True)\n",
        "\n",
        "    # Function to copy files for a dataset (DBI or SDD)\n",
        "    def process_dataset(dataset_path, label):\n",
        "        for breed_folder in os.listdir(dataset_path):\n",
        "            breed_path = os.path.join(dataset_path, breed_folder)\n",
        "            if os.path.isdir(breed_path):\n",
        "                all_files = os.listdir(breed_path)\n",
        "                random.shuffle(all_files)\n",
        "                train_files, test_files = train_test_split(all_files, test_size=1-train_ratio)\n",
        "\n",
        "                for file in train_files:\n",
        "                    src_path = os.path.join(breed_path, file)\n",
        "                    dest_path = os.path.join(combined_train, label, f\"{breed_folder}_{file}\")\n",
        "                    shutil.copy(src_path, dest_path)\n",
        "\n",
        "                for file in test_files:\n",
        "                    src_path = os.path.join(breed_path, file)\n",
        "                    dest_path = os.path.join(combined_test, label, f\"{breed_folder}_{file}\")\n",
        "                    shutil.copy(src_path, dest_path)\n",
        "\n",
        "    # Process each dataset\n",
        "    process_dataset(dbi_path, 'DBI')\n",
        "    process_dataset(sdd_path, 'SDD')"
      ],
      "metadata": {
        "id": "lGb-YKAbqJCS"
      },
      "execution_count": 7,
      "outputs": []
    },
    {
      "cell_type": "code",
      "source": [
        "# DBI and SDD dataset paths\n",
        "dbi_path = '/content/DBIsubset'\n",
        "sdd_path = '/content/SDDsubset'\n",
        "\n",
        "# Split and combine datasets\n",
        "split_and_combine_datasets(dbi_path, sdd_path)"
      ],
      "metadata": {
        "id": "m1E0Wi-WqKeh"
      },
      "execution_count": 8,
      "outputs": []
    },
    {
      "cell_type": "code",
      "source": [
        "!rm -rf combined_dataset"
      ],
      "metadata": {
        "id": "zY9gJ3HpsDZw"
      },
      "execution_count": 84,
      "outputs": []
    },
    {
      "cell_type": "code",
      "source": [
        "from torchvision import transforms, datasets\n",
        "from torch.utils.data import random_split, DataLoader\n",
        "import torch\n",
        "import torch.nn as nn\n",
        "import torch.nn.functional as F\n",
        "import torch.optim as optim\n",
        "import os\n",
        "import shutil\n",
        "\n",
        "# Step 1: Data Preparation\n",
        "# Creating a combined dataset folder\n",
        "combined_dataset_path = '/content/CombinedDataset'\n",
        "os.makedirs(combined_dataset_path, exist_ok=True)\n",
        "os.makedirs(os.path.join(combined_dataset_path, 'SDD'), exist_ok=True)\n",
        "os.makedirs(os.path.join(combined_dataset_path, 'DBI'), exist_ok=True)\n",
        "\n",
        "# Copy SDD and DBI dataset images to the combined folder\n",
        "sdd_path = '/content/SDDsubset'\n",
        "dbi_path = '/content/DBIsubset'\n",
        "\n",
        "# Function to copy all images from source to destination folder\n",
        "def copy_images_to_folder(src_folder, dest_folder):\n",
        "    for breed_folder in os.listdir(src_folder):\n",
        "        breed_path = os.path.join(src_folder, breed_folder)\n",
        "        if os.path.isdir(breed_path):  # Check if it's a directory\n",
        "            for img_file in os.listdir(breed_path):\n",
        "                img_path = os.path.join(breed_path, img_file)\n",
        "                shutil.copy(img_path, dest_folder)\n",
        "\n",
        "# Copying images\n",
        "copy_images_to_folder(sdd_path, os.path.join(combined_dataset_path, 'SDD'))\n",
        "copy_images_to_folder(dbi_path, os.path.join(combined_dataset_path, 'DBI'))"
      ],
      "metadata": {
        "id": "DMwjKBPAsTxj"
      },
      "execution_count": 11,
      "outputs": []
    },
    {
      "cell_type": "code",
      "source": [
        "# Step 2: Data Loading\n",
        "# Image transformations\n",
        "imagenet_stats = ([0.485, 0.456, 0.406], [0.229, 0.224, 0.225])\n",
        "\n",
        "train_transform = transforms.Compose([\n",
        "#    transforms.Resize((224, 224)),\n",
        "    transforms.Resize((256, 256)),\n",
        "    transforms.RandomCrop(224, padding=4, padding_mode='reflect'),\n",
        "    transforms.RandomHorizontalFlip(p=0.3),\n",
        "    transforms.ColorJitter(brightness=0.5),\n",
        "    transforms.RandomRotation(degrees=30),\n",
        "    transforms.ToTensor(),\n",
        "#    transforms.Normalize(*imagenet_stats, inplace=True)\n",
        "\n",
        "])\n",
        "\n",
        "\n",
        "val_transform = transforms.Compose([\n",
        "    transforms.Resize((224,224)),\n",
        "    transforms.ToTensor(),\n",
        "#    transforms.Normalize(*imagenet_stats, inplace=True)\n",
        "])\n",
        "\n",
        "test_transform = transforms.Compose([\n",
        "    transforms.Resize((224,224)),\n",
        "    transforms.ToTensor(),\n",
        "#    transforms.Normalize(*imagenet_stats, inplace=True)\n",
        "])\n",
        "\n",
        "# Loading data\n",
        "combined_data = datasets.ImageFolder(combined_dataset_path, transform=train_transform)\n",
        "train_size = int(0.8 * len(combined_data))\n",
        "test_size = len(combined_data) - train_size\n",
        "train_data, test_data = random_split(combined_data, [train_size, test_size])\n",
        "\n",
        "# DataLoaders\n",
        "train_dl = DataLoader(train_data, batch_size=64, shuffle=True)\n",
        "test_dl = DataLoader(test_data, batch_size=64)"
      ],
      "metadata": {
        "id": "TffhQ0_GsqKf"
      },
      "execution_count": 12,
      "outputs": []
    },
    {
      "cell_type": "code",
      "source": [
        "# Step 3: Model Definition\n",
        "# Using MobileNetV2 as the base model\n",
        "mobilenet_model = models.mobilenet_v2(pretrained=True)\n",
        "in_features = mobilenet_model.classifier[1].in_features\n",
        "\n",
        "# Modifying to fit the problem\n",
        "mobilenet_model.classifier[1] = nn.Linear(in_features, 2)  # We have 2 classes: SDD and DBI"
      ],
      "metadata": {
        "colab": {
          "base_uri": "https://localhost:8080/"
        },
        "id": "2Ww2MsLYsrrw",
        "outputId": "5651dbe6-4e35-4147-ef1f-5813d7e2f86b"
      },
      "execution_count": 13,
      "outputs": [
        {
          "output_type": "stream",
          "name": "stderr",
          "text": [
            "/usr/local/lib/python3.10/dist-packages/torchvision/models/_utils.py:208: UserWarning: The parameter 'pretrained' is deprecated since 0.13 and may be removed in the future, please use 'weights' instead.\n",
            "  warnings.warn(\n",
            "/usr/local/lib/python3.10/dist-packages/torchvision/models/_utils.py:223: UserWarning: Arguments other than a weight enum or `None` for 'weights' are deprecated since 0.13 and may be removed in the future. The current behavior is equivalent to passing `weights=MobileNet_V2_Weights.IMAGENET1K_V1`. You can also use `weights=MobileNet_V2_Weights.DEFAULT` to get the most up-to-date weights.\n",
            "  warnings.warn(msg)\n",
            "Downloading: \"https://download.pytorch.org/models/mobilenet_v2-b0353104.pth\" to /root/.cache/torch/hub/checkpoints/mobilenet_v2-b0353104.pth\n",
            "100%|██████████| 13.6M/13.6M [00:00<00:00, 59.2MB/s]\n"
          ]
        }
      ]
    },
    {
      "cell_type": "code",
      "source": [
        "# Step 4: Fine-tuning and Evaluation\n",
        "# Optimizer and Loss\n",
        "optimizer = optim.Adam(mobilenet_model.parameters(), lr=0.001)\n",
        "criterion = nn.CrossEntropyLoss()\n",
        "\n",
        "# Training loop\n",
        "num_epochs = 10\n",
        "for epoch in range(num_epochs):\n",
        "    for i, (inputs, labels) in enumerate(train_dl):\n",
        "        optimizer.zero_grad()\n",
        "        outputs = mobilenet_model(inputs)\n",
        "        loss = criterion(outputs, labels)\n",
        "        loss.backward()\n",
        "        optimizer.step()"
      ],
      "metadata": {
        "id": "Ok6DPuDEsr2r"
      },
      "execution_count": null,
      "outputs": []
    },
    {
      "cell_type": "code",
      "source": [
        "# Evaluation\n",
        "correct = 0\n",
        "total = 0\n",
        "with torch.no_grad():\n",
        "    for inputs, labels in test_dl:\n",
        "        outputs = mobilenet_model(inputs)\n",
        "        _, predicted = torch.max(outputs.data, 1)\n",
        "        total += labels.size(0)\n",
        "        correct += (predicted == labels).sum().item()\n",
        "\n",
        "accuracy = 100 * correct / total\n",
        "accuracy"
      ],
      "metadata": {
        "colab": {
          "base_uri": "https://localhost:8080/"
        },
        "id": "HltLk1_DtbiX",
        "outputId": "9c5ff797-9567-4151-abdf-37dc7d9125b5"
      },
      "execution_count": 15,
      "outputs": [
        {
          "output_type": "execute_result",
          "data": {
            "text/plain": [
              "84.04255319148936"
            ]
          },
          "metadata": {},
          "execution_count": 15
        }
      ]
    }
  ],
  "metadata": {
    "colab": {
      "provenance": [],
      "machine_shape": "hm"
    },
    "kernelspec": {
      "display_name": "Python 3",
      "name": "python3"
    },
    "language_info": {
      "name": "python"
    },
    "widgets": {
      "application/vnd.jupyter.widget-state+json": {
        "e5ee8d17961745ee850cca2c2ab89b02": {
          "model_module": "@jupyter-widgets/controls",
          "model_name": "HBoxModel",
          "model_module_version": "1.5.0",
          "state": {
            "_dom_classes": [],
            "_model_module": "@jupyter-widgets/controls",
            "_model_module_version": "1.5.0",
            "_model_name": "HBoxModel",
            "_view_count": null,
            "_view_module": "@jupyter-widgets/controls",
            "_view_module_version": "1.5.0",
            "_view_name": "HBoxView",
            "box_style": "",
            "children": [
              "IPY_MODEL_99e11b678e35427d913483c40bf95b8f",
              "IPY_MODEL_fb4c9754e55c44b199e92d8e4a697f4a",
              "IPY_MODEL_1ce3942be8bc428a977ae3a899dbff0c"
            ],
            "layout": "IPY_MODEL_e2829213f39f4322b7982908c702daa5"
          }
        },
        "99e11b678e35427d913483c40bf95b8f": {
          "model_module": "@jupyter-widgets/controls",
          "model_name": "HTMLModel",
          "model_module_version": "1.5.0",
          "state": {
            "_dom_classes": [],
            "_model_module": "@jupyter-widgets/controls",
            "_model_module_version": "1.5.0",
            "_model_name": "HTMLModel",
            "_view_count": null,
            "_view_module": "@jupyter-widgets/controls",
            "_view_module_version": "1.5.0",
            "_view_name": "HTMLView",
            "description": "",
            "description_tooltip": null,
            "layout": "IPY_MODEL_dce23ae3778a4f41ae23a2f576898e01",
            "placeholder": "​",
            "style": "IPY_MODEL_76d36eec0ed44c1dbc8a79409463fb83",
            "value": "100%"
          }
        },
        "fb4c9754e55c44b199e92d8e4a697f4a": {
          "model_module": "@jupyter-widgets/controls",
          "model_name": "FloatProgressModel",
          "model_module_version": "1.5.0",
          "state": {
            "_dom_classes": [],
            "_model_module": "@jupyter-widgets/controls",
            "_model_module_version": "1.5.0",
            "_model_name": "FloatProgressModel",
            "_view_count": null,
            "_view_module": "@jupyter-widgets/controls",
            "_view_module_version": "1.5.0",
            "_view_name": "ProgressView",
            "bar_style": "success",
            "description": "",
            "description_tooltip": null,
            "layout": "IPY_MODEL_1a110e6d8cb048598f0ff6ea444c14c3",
            "max": 7,
            "min": 0,
            "orientation": "horizontal",
            "style": "IPY_MODEL_56f1260be36e43ffa2b92afae3a368b0",
            "value": 7
          }
        },
        "1ce3942be8bc428a977ae3a899dbff0c": {
          "model_module": "@jupyter-widgets/controls",
          "model_name": "HTMLModel",
          "model_module_version": "1.5.0",
          "state": {
            "_dom_classes": [],
            "_model_module": "@jupyter-widgets/controls",
            "_model_module_version": "1.5.0",
            "_model_name": "HTMLModel",
            "_view_count": null,
            "_view_module": "@jupyter-widgets/controls",
            "_view_module_version": "1.5.0",
            "_view_name": "HTMLView",
            "description": "",
            "description_tooltip": null,
            "layout": "IPY_MODEL_050838ed6fc74ab3a28f489a21e839a6",
            "placeholder": "​",
            "style": "IPY_MODEL_b78ce582b3014eed9590e62588fe86ac",
            "value": " 7/7 [04:12&lt;00:00, 28.67s/it]"
          }
        },
        "e2829213f39f4322b7982908c702daa5": {
          "model_module": "@jupyter-widgets/base",
          "model_name": "LayoutModel",
          "model_module_version": "1.2.0",
          "state": {
            "_model_module": "@jupyter-widgets/base",
            "_model_module_version": "1.2.0",
            "_model_name": "LayoutModel",
            "_view_count": null,
            "_view_module": "@jupyter-widgets/base",
            "_view_module_version": "1.2.0",
            "_view_name": "LayoutView",
            "align_content": null,
            "align_items": null,
            "align_self": null,
            "border": null,
            "bottom": null,
            "display": null,
            "flex": null,
            "flex_flow": null,
            "grid_area": null,
            "grid_auto_columns": null,
            "grid_auto_flow": null,
            "grid_auto_rows": null,
            "grid_column": null,
            "grid_gap": null,
            "grid_row": null,
            "grid_template_areas": null,
            "grid_template_columns": null,
            "grid_template_rows": null,
            "height": null,
            "justify_content": null,
            "justify_items": null,
            "left": null,
            "margin": null,
            "max_height": null,
            "max_width": null,
            "min_height": null,
            "min_width": null,
            "object_fit": null,
            "object_position": null,
            "order": null,
            "overflow": null,
            "overflow_x": null,
            "overflow_y": null,
            "padding": null,
            "right": null,
            "top": null,
            "visibility": null,
            "width": null
          }
        },
        "dce23ae3778a4f41ae23a2f576898e01": {
          "model_module": "@jupyter-widgets/base",
          "model_name": "LayoutModel",
          "model_module_version": "1.2.0",
          "state": {
            "_model_module": "@jupyter-widgets/base",
            "_model_module_version": "1.2.0",
            "_model_name": "LayoutModel",
            "_view_count": null,
            "_view_module": "@jupyter-widgets/base",
            "_view_module_version": "1.2.0",
            "_view_name": "LayoutView",
            "align_content": null,
            "align_items": null,
            "align_self": null,
            "border": null,
            "bottom": null,
            "display": null,
            "flex": null,
            "flex_flow": null,
            "grid_area": null,
            "grid_auto_columns": null,
            "grid_auto_flow": null,
            "grid_auto_rows": null,
            "grid_column": null,
            "grid_gap": null,
            "grid_row": null,
            "grid_template_areas": null,
            "grid_template_columns": null,
            "grid_template_rows": null,
            "height": null,
            "justify_content": null,
            "justify_items": null,
            "left": null,
            "margin": null,
            "max_height": null,
            "max_width": null,
            "min_height": null,
            "min_width": null,
            "object_fit": null,
            "object_position": null,
            "order": null,
            "overflow": null,
            "overflow_x": null,
            "overflow_y": null,
            "padding": null,
            "right": null,
            "top": null,
            "visibility": null,
            "width": null
          }
        },
        "76d36eec0ed44c1dbc8a79409463fb83": {
          "model_module": "@jupyter-widgets/controls",
          "model_name": "DescriptionStyleModel",
          "model_module_version": "1.5.0",
          "state": {
            "_model_module": "@jupyter-widgets/controls",
            "_model_module_version": "1.5.0",
            "_model_name": "DescriptionStyleModel",
            "_view_count": null,
            "_view_module": "@jupyter-widgets/base",
            "_view_module_version": "1.2.0",
            "_view_name": "StyleView",
            "description_width": ""
          }
        },
        "1a110e6d8cb048598f0ff6ea444c14c3": {
          "model_module": "@jupyter-widgets/base",
          "model_name": "LayoutModel",
          "model_module_version": "1.2.0",
          "state": {
            "_model_module": "@jupyter-widgets/base",
            "_model_module_version": "1.2.0",
            "_model_name": "LayoutModel",
            "_view_count": null,
            "_view_module": "@jupyter-widgets/base",
            "_view_module_version": "1.2.0",
            "_view_name": "LayoutView",
            "align_content": null,
            "align_items": null,
            "align_self": null,
            "border": null,
            "bottom": null,
            "display": null,
            "flex": null,
            "flex_flow": null,
            "grid_area": null,
            "grid_auto_columns": null,
            "grid_auto_flow": null,
            "grid_auto_rows": null,
            "grid_column": null,
            "grid_gap": null,
            "grid_row": null,
            "grid_template_areas": null,
            "grid_template_columns": null,
            "grid_template_rows": null,
            "height": null,
            "justify_content": null,
            "justify_items": null,
            "left": null,
            "margin": null,
            "max_height": null,
            "max_width": null,
            "min_height": null,
            "min_width": null,
            "object_fit": null,
            "object_position": null,
            "order": null,
            "overflow": null,
            "overflow_x": null,
            "overflow_y": null,
            "padding": null,
            "right": null,
            "top": null,
            "visibility": null,
            "width": null
          }
        },
        "56f1260be36e43ffa2b92afae3a368b0": {
          "model_module": "@jupyter-widgets/controls",
          "model_name": "ProgressStyleModel",
          "model_module_version": "1.5.0",
          "state": {
            "_model_module": "@jupyter-widgets/controls",
            "_model_module_version": "1.5.0",
            "_model_name": "ProgressStyleModel",
            "_view_count": null,
            "_view_module": "@jupyter-widgets/base",
            "_view_module_version": "1.2.0",
            "_view_name": "StyleView",
            "bar_color": null,
            "description_width": ""
          }
        },
        "050838ed6fc74ab3a28f489a21e839a6": {
          "model_module": "@jupyter-widgets/base",
          "model_name": "LayoutModel",
          "model_module_version": "1.2.0",
          "state": {
            "_model_module": "@jupyter-widgets/base",
            "_model_module_version": "1.2.0",
            "_model_name": "LayoutModel",
            "_view_count": null,
            "_view_module": "@jupyter-widgets/base",
            "_view_module_version": "1.2.0",
            "_view_name": "LayoutView",
            "align_content": null,
            "align_items": null,
            "align_self": null,
            "border": null,
            "bottom": null,
            "display": null,
            "flex": null,
            "flex_flow": null,
            "grid_area": null,
            "grid_auto_columns": null,
            "grid_auto_flow": null,
            "grid_auto_rows": null,
            "grid_column": null,
            "grid_gap": null,
            "grid_row": null,
            "grid_template_areas": null,
            "grid_template_columns": null,
            "grid_template_rows": null,
            "height": null,
            "justify_content": null,
            "justify_items": null,
            "left": null,
            "margin": null,
            "max_height": null,
            "max_width": null,
            "min_height": null,
            "min_width": null,
            "object_fit": null,
            "object_position": null,
            "order": null,
            "overflow": null,
            "overflow_x": null,
            "overflow_y": null,
            "padding": null,
            "right": null,
            "top": null,
            "visibility": null,
            "width": null
          }
        },
        "b78ce582b3014eed9590e62588fe86ac": {
          "model_module": "@jupyter-widgets/controls",
          "model_name": "DescriptionStyleModel",
          "model_module_version": "1.5.0",
          "state": {
            "_model_module": "@jupyter-widgets/controls",
            "_model_module_version": "1.5.0",
            "_model_name": "DescriptionStyleModel",
            "_view_count": null,
            "_view_module": "@jupyter-widgets/base",
            "_view_module_version": "1.2.0",
            "_view_name": "StyleView",
            "description_width": ""
          }
        },
        "d2915b21397e4eae83299e822223d4b7": {
          "model_module": "@jupyter-widgets/controls",
          "model_name": "HBoxModel",
          "model_module_version": "1.5.0",
          "state": {
            "_dom_classes": [],
            "_model_module": "@jupyter-widgets/controls",
            "_model_module_version": "1.5.0",
            "_model_name": "HBoxModel",
            "_view_count": null,
            "_view_module": "@jupyter-widgets/controls",
            "_view_module_version": "1.5.0",
            "_view_name": "HBoxView",
            "box_style": "",
            "children": [
              "IPY_MODEL_1a687d00edcc4070aba87e3ccb8155ba",
              "IPY_MODEL_9f71f27f0749442a99ee8dba9a3ec05f",
              "IPY_MODEL_b0bc5e4c8a8b4bd6b0113b9c1006663c"
            ],
            "layout": "IPY_MODEL_61202b56ecca47f6964489f3089c1dcd"
          }
        },
        "1a687d00edcc4070aba87e3ccb8155ba": {
          "model_module": "@jupyter-widgets/controls",
          "model_name": "HTMLModel",
          "model_module_version": "1.5.0",
          "state": {
            "_dom_classes": [],
            "_model_module": "@jupyter-widgets/controls",
            "_model_module_version": "1.5.0",
            "_model_name": "HTMLModel",
            "_view_count": null,
            "_view_module": "@jupyter-widgets/controls",
            "_view_module_version": "1.5.0",
            "_view_name": "HTMLView",
            "description": "",
            "description_tooltip": null,
            "layout": "IPY_MODEL_865327f3d14e4c4e92fd753a0daf2607",
            "placeholder": "​",
            "style": "IPY_MODEL_91d7e0fd4dec460eb306784a30c3ddde",
            "value": "100%"
          }
        },
        "9f71f27f0749442a99ee8dba9a3ec05f": {
          "model_module": "@jupyter-widgets/controls",
          "model_name": "FloatProgressModel",
          "model_module_version": "1.5.0",
          "state": {
            "_dom_classes": [],
            "_model_module": "@jupyter-widgets/controls",
            "_model_module_version": "1.5.0",
            "_model_name": "FloatProgressModel",
            "_view_count": null,
            "_view_module": "@jupyter-widgets/controls",
            "_view_module_version": "1.5.0",
            "_view_name": "ProgressView",
            "bar_style": "success",
            "description": "",
            "description_tooltip": null,
            "layout": "IPY_MODEL_c47f1c3c2f00404cad816524e403f465",
            "max": 7,
            "min": 0,
            "orientation": "horizontal",
            "style": "IPY_MODEL_843ba9e24a4e4defa8c9c3bc5eeeb7bb",
            "value": 7
          }
        },
        "b0bc5e4c8a8b4bd6b0113b9c1006663c": {
          "model_module": "@jupyter-widgets/controls",
          "model_name": "HTMLModel",
          "model_module_version": "1.5.0",
          "state": {
            "_dom_classes": [],
            "_model_module": "@jupyter-widgets/controls",
            "_model_module_version": "1.5.0",
            "_model_name": "HTMLModel",
            "_view_count": null,
            "_view_module": "@jupyter-widgets/controls",
            "_view_module_version": "1.5.0",
            "_view_name": "HTMLView",
            "description": "",
            "description_tooltip": null,
            "layout": "IPY_MODEL_db780d1200a64da28d8271b28e39f3a8",
            "placeholder": "​",
            "style": "IPY_MODEL_3a6387f095de478da334822f2b8b05ce",
            "value": " 7/7 [03:42&lt;00:00, 27.05s/it]"
          }
        },
        "61202b56ecca47f6964489f3089c1dcd": {
          "model_module": "@jupyter-widgets/base",
          "model_name": "LayoutModel",
          "model_module_version": "1.2.0",
          "state": {
            "_model_module": "@jupyter-widgets/base",
            "_model_module_version": "1.2.0",
            "_model_name": "LayoutModel",
            "_view_count": null,
            "_view_module": "@jupyter-widgets/base",
            "_view_module_version": "1.2.0",
            "_view_name": "LayoutView",
            "align_content": null,
            "align_items": null,
            "align_self": null,
            "border": null,
            "bottom": null,
            "display": null,
            "flex": null,
            "flex_flow": null,
            "grid_area": null,
            "grid_auto_columns": null,
            "grid_auto_flow": null,
            "grid_auto_rows": null,
            "grid_column": null,
            "grid_gap": null,
            "grid_row": null,
            "grid_template_areas": null,
            "grid_template_columns": null,
            "grid_template_rows": null,
            "height": null,
            "justify_content": null,
            "justify_items": null,
            "left": null,
            "margin": null,
            "max_height": null,
            "max_width": null,
            "min_height": null,
            "min_width": null,
            "object_fit": null,
            "object_position": null,
            "order": null,
            "overflow": null,
            "overflow_x": null,
            "overflow_y": null,
            "padding": null,
            "right": null,
            "top": null,
            "visibility": null,
            "width": null
          }
        },
        "865327f3d14e4c4e92fd753a0daf2607": {
          "model_module": "@jupyter-widgets/base",
          "model_name": "LayoutModel",
          "model_module_version": "1.2.0",
          "state": {
            "_model_module": "@jupyter-widgets/base",
            "_model_module_version": "1.2.0",
            "_model_name": "LayoutModel",
            "_view_count": null,
            "_view_module": "@jupyter-widgets/base",
            "_view_module_version": "1.2.0",
            "_view_name": "LayoutView",
            "align_content": null,
            "align_items": null,
            "align_self": null,
            "border": null,
            "bottom": null,
            "display": null,
            "flex": null,
            "flex_flow": null,
            "grid_area": null,
            "grid_auto_columns": null,
            "grid_auto_flow": null,
            "grid_auto_rows": null,
            "grid_column": null,
            "grid_gap": null,
            "grid_row": null,
            "grid_template_areas": null,
            "grid_template_columns": null,
            "grid_template_rows": null,
            "height": null,
            "justify_content": null,
            "justify_items": null,
            "left": null,
            "margin": null,
            "max_height": null,
            "max_width": null,
            "min_height": null,
            "min_width": null,
            "object_fit": null,
            "object_position": null,
            "order": null,
            "overflow": null,
            "overflow_x": null,
            "overflow_y": null,
            "padding": null,
            "right": null,
            "top": null,
            "visibility": null,
            "width": null
          }
        },
        "91d7e0fd4dec460eb306784a30c3ddde": {
          "model_module": "@jupyter-widgets/controls",
          "model_name": "DescriptionStyleModel",
          "model_module_version": "1.5.0",
          "state": {
            "_model_module": "@jupyter-widgets/controls",
            "_model_module_version": "1.5.0",
            "_model_name": "DescriptionStyleModel",
            "_view_count": null,
            "_view_module": "@jupyter-widgets/base",
            "_view_module_version": "1.2.0",
            "_view_name": "StyleView",
            "description_width": ""
          }
        },
        "c47f1c3c2f00404cad816524e403f465": {
          "model_module": "@jupyter-widgets/base",
          "model_name": "LayoutModel",
          "model_module_version": "1.2.0",
          "state": {
            "_model_module": "@jupyter-widgets/base",
            "_model_module_version": "1.2.0",
            "_model_name": "LayoutModel",
            "_view_count": null,
            "_view_module": "@jupyter-widgets/base",
            "_view_module_version": "1.2.0",
            "_view_name": "LayoutView",
            "align_content": null,
            "align_items": null,
            "align_self": null,
            "border": null,
            "bottom": null,
            "display": null,
            "flex": null,
            "flex_flow": null,
            "grid_area": null,
            "grid_auto_columns": null,
            "grid_auto_flow": null,
            "grid_auto_rows": null,
            "grid_column": null,
            "grid_gap": null,
            "grid_row": null,
            "grid_template_areas": null,
            "grid_template_columns": null,
            "grid_template_rows": null,
            "height": null,
            "justify_content": null,
            "justify_items": null,
            "left": null,
            "margin": null,
            "max_height": null,
            "max_width": null,
            "min_height": null,
            "min_width": null,
            "object_fit": null,
            "object_position": null,
            "order": null,
            "overflow": null,
            "overflow_x": null,
            "overflow_y": null,
            "padding": null,
            "right": null,
            "top": null,
            "visibility": null,
            "width": null
          }
        },
        "843ba9e24a4e4defa8c9c3bc5eeeb7bb": {
          "model_module": "@jupyter-widgets/controls",
          "model_name": "ProgressStyleModel",
          "model_module_version": "1.5.0",
          "state": {
            "_model_module": "@jupyter-widgets/controls",
            "_model_module_version": "1.5.0",
            "_model_name": "ProgressStyleModel",
            "_view_count": null,
            "_view_module": "@jupyter-widgets/base",
            "_view_module_version": "1.2.0",
            "_view_name": "StyleView",
            "bar_color": null,
            "description_width": ""
          }
        },
        "db780d1200a64da28d8271b28e39f3a8": {
          "model_module": "@jupyter-widgets/base",
          "model_name": "LayoutModel",
          "model_module_version": "1.2.0",
          "state": {
            "_model_module": "@jupyter-widgets/base",
            "_model_module_version": "1.2.0",
            "_model_name": "LayoutModel",
            "_view_count": null,
            "_view_module": "@jupyter-widgets/base",
            "_view_module_version": "1.2.0",
            "_view_name": "LayoutView",
            "align_content": null,
            "align_items": null,
            "align_self": null,
            "border": null,
            "bottom": null,
            "display": null,
            "flex": null,
            "flex_flow": null,
            "grid_area": null,
            "grid_auto_columns": null,
            "grid_auto_flow": null,
            "grid_auto_rows": null,
            "grid_column": null,
            "grid_gap": null,
            "grid_row": null,
            "grid_template_areas": null,
            "grid_template_columns": null,
            "grid_template_rows": null,
            "height": null,
            "justify_content": null,
            "justify_items": null,
            "left": null,
            "margin": null,
            "max_height": null,
            "max_width": null,
            "min_height": null,
            "min_width": null,
            "object_fit": null,
            "object_position": null,
            "order": null,
            "overflow": null,
            "overflow_x": null,
            "overflow_y": null,
            "padding": null,
            "right": null,
            "top": null,
            "visibility": null,
            "width": null
          }
        },
        "3a6387f095de478da334822f2b8b05ce": {
          "model_module": "@jupyter-widgets/controls",
          "model_name": "DescriptionStyleModel",
          "model_module_version": "1.5.0",
          "state": {
            "_model_module": "@jupyter-widgets/controls",
            "_model_module_version": "1.5.0",
            "_model_name": "DescriptionStyleModel",
            "_view_count": null,
            "_view_module": "@jupyter-widgets/base",
            "_view_module_version": "1.2.0",
            "_view_name": "StyleView",
            "description_width": ""
          }
        },
        "33e2703bdf37408691f62651defd3ba0": {
          "model_module": "@jupyter-widgets/controls",
          "model_name": "HBoxModel",
          "model_module_version": "1.5.0",
          "state": {
            "_dom_classes": [],
            "_model_module": "@jupyter-widgets/controls",
            "_model_module_version": "1.5.0",
            "_model_name": "HBoxModel",
            "_view_count": null,
            "_view_module": "@jupyter-widgets/controls",
            "_view_module_version": "1.5.0",
            "_view_name": "HBoxView",
            "box_style": "",
            "children": [
              "IPY_MODEL_fe1d8f2843214ed3afb26765a62fbb53",
              "IPY_MODEL_a0ff7984d4de4224aedfc0d8748b3296",
              "IPY_MODEL_c1fb7eb682c740bbb474eacdf9a0a0ac"
            ],
            "layout": "IPY_MODEL_42f5f0a9c3394b49a91a139bac3f331d"
          }
        },
        "fe1d8f2843214ed3afb26765a62fbb53": {
          "model_module": "@jupyter-widgets/controls",
          "model_name": "HTMLModel",
          "model_module_version": "1.5.0",
          "state": {
            "_dom_classes": [],
            "_model_module": "@jupyter-widgets/controls",
            "_model_module_version": "1.5.0",
            "_model_name": "HTMLModel",
            "_view_count": null,
            "_view_module": "@jupyter-widgets/controls",
            "_view_module_version": "1.5.0",
            "_view_name": "HTMLView",
            "description": "",
            "description_tooltip": null,
            "layout": "IPY_MODEL_64c15a0e23a547b5836016e442a1384b",
            "placeholder": "​",
            "style": "IPY_MODEL_1047f1825eb44aa2b1ec096746a80c28",
            "value": "100%"
          }
        },
        "a0ff7984d4de4224aedfc0d8748b3296": {
          "model_module": "@jupyter-widgets/controls",
          "model_name": "FloatProgressModel",
          "model_module_version": "1.5.0",
          "state": {
            "_dom_classes": [],
            "_model_module": "@jupyter-widgets/controls",
            "_model_module_version": "1.5.0",
            "_model_name": "FloatProgressModel",
            "_view_count": null,
            "_view_module": "@jupyter-widgets/controls",
            "_view_module_version": "1.5.0",
            "_view_name": "ProgressView",
            "bar_style": "success",
            "description": "",
            "description_tooltip": null,
            "layout": "IPY_MODEL_395048396aca40f895440ca19eec1cd5",
            "max": 7,
            "min": 0,
            "orientation": "horizontal",
            "style": "IPY_MODEL_d7b770d908ba491b80088db680c6f719",
            "value": 7
          }
        },
        "c1fb7eb682c740bbb474eacdf9a0a0ac": {
          "model_module": "@jupyter-widgets/controls",
          "model_name": "HTMLModel",
          "model_module_version": "1.5.0",
          "state": {
            "_dom_classes": [],
            "_model_module": "@jupyter-widgets/controls",
            "_model_module_version": "1.5.0",
            "_model_name": "HTMLModel",
            "_view_count": null,
            "_view_module": "@jupyter-widgets/controls",
            "_view_module_version": "1.5.0",
            "_view_name": "HTMLView",
            "description": "",
            "description_tooltip": null,
            "layout": "IPY_MODEL_7a8194bb4c424df0921d718cc35815a9",
            "placeholder": "​",
            "style": "IPY_MODEL_4a3c3261562942c2b6f21e7fbe5f65e1",
            "value": " 7/7 [03:36&lt;00:00, 26.38s/it]"
          }
        },
        "42f5f0a9c3394b49a91a139bac3f331d": {
          "model_module": "@jupyter-widgets/base",
          "model_name": "LayoutModel",
          "model_module_version": "1.2.0",
          "state": {
            "_model_module": "@jupyter-widgets/base",
            "_model_module_version": "1.2.0",
            "_model_name": "LayoutModel",
            "_view_count": null,
            "_view_module": "@jupyter-widgets/base",
            "_view_module_version": "1.2.0",
            "_view_name": "LayoutView",
            "align_content": null,
            "align_items": null,
            "align_self": null,
            "border": null,
            "bottom": null,
            "display": null,
            "flex": null,
            "flex_flow": null,
            "grid_area": null,
            "grid_auto_columns": null,
            "grid_auto_flow": null,
            "grid_auto_rows": null,
            "grid_column": null,
            "grid_gap": null,
            "grid_row": null,
            "grid_template_areas": null,
            "grid_template_columns": null,
            "grid_template_rows": null,
            "height": null,
            "justify_content": null,
            "justify_items": null,
            "left": null,
            "margin": null,
            "max_height": null,
            "max_width": null,
            "min_height": null,
            "min_width": null,
            "object_fit": null,
            "object_position": null,
            "order": null,
            "overflow": null,
            "overflow_x": null,
            "overflow_y": null,
            "padding": null,
            "right": null,
            "top": null,
            "visibility": null,
            "width": null
          }
        },
        "64c15a0e23a547b5836016e442a1384b": {
          "model_module": "@jupyter-widgets/base",
          "model_name": "LayoutModel",
          "model_module_version": "1.2.0",
          "state": {
            "_model_module": "@jupyter-widgets/base",
            "_model_module_version": "1.2.0",
            "_model_name": "LayoutModel",
            "_view_count": null,
            "_view_module": "@jupyter-widgets/base",
            "_view_module_version": "1.2.0",
            "_view_name": "LayoutView",
            "align_content": null,
            "align_items": null,
            "align_self": null,
            "border": null,
            "bottom": null,
            "display": null,
            "flex": null,
            "flex_flow": null,
            "grid_area": null,
            "grid_auto_columns": null,
            "grid_auto_flow": null,
            "grid_auto_rows": null,
            "grid_column": null,
            "grid_gap": null,
            "grid_row": null,
            "grid_template_areas": null,
            "grid_template_columns": null,
            "grid_template_rows": null,
            "height": null,
            "justify_content": null,
            "justify_items": null,
            "left": null,
            "margin": null,
            "max_height": null,
            "max_width": null,
            "min_height": null,
            "min_width": null,
            "object_fit": null,
            "object_position": null,
            "order": null,
            "overflow": null,
            "overflow_x": null,
            "overflow_y": null,
            "padding": null,
            "right": null,
            "top": null,
            "visibility": null,
            "width": null
          }
        },
        "1047f1825eb44aa2b1ec096746a80c28": {
          "model_module": "@jupyter-widgets/controls",
          "model_name": "DescriptionStyleModel",
          "model_module_version": "1.5.0",
          "state": {
            "_model_module": "@jupyter-widgets/controls",
            "_model_module_version": "1.5.0",
            "_model_name": "DescriptionStyleModel",
            "_view_count": null,
            "_view_module": "@jupyter-widgets/base",
            "_view_module_version": "1.2.0",
            "_view_name": "StyleView",
            "description_width": ""
          }
        },
        "395048396aca40f895440ca19eec1cd5": {
          "model_module": "@jupyter-widgets/base",
          "model_name": "LayoutModel",
          "model_module_version": "1.2.0",
          "state": {
            "_model_module": "@jupyter-widgets/base",
            "_model_module_version": "1.2.0",
            "_model_name": "LayoutModel",
            "_view_count": null,
            "_view_module": "@jupyter-widgets/base",
            "_view_module_version": "1.2.0",
            "_view_name": "LayoutView",
            "align_content": null,
            "align_items": null,
            "align_self": null,
            "border": null,
            "bottom": null,
            "display": null,
            "flex": null,
            "flex_flow": null,
            "grid_area": null,
            "grid_auto_columns": null,
            "grid_auto_flow": null,
            "grid_auto_rows": null,
            "grid_column": null,
            "grid_gap": null,
            "grid_row": null,
            "grid_template_areas": null,
            "grid_template_columns": null,
            "grid_template_rows": null,
            "height": null,
            "justify_content": null,
            "justify_items": null,
            "left": null,
            "margin": null,
            "max_height": null,
            "max_width": null,
            "min_height": null,
            "min_width": null,
            "object_fit": null,
            "object_position": null,
            "order": null,
            "overflow": null,
            "overflow_x": null,
            "overflow_y": null,
            "padding": null,
            "right": null,
            "top": null,
            "visibility": null,
            "width": null
          }
        },
        "d7b770d908ba491b80088db680c6f719": {
          "model_module": "@jupyter-widgets/controls",
          "model_name": "ProgressStyleModel",
          "model_module_version": "1.5.0",
          "state": {
            "_model_module": "@jupyter-widgets/controls",
            "_model_module_version": "1.5.0",
            "_model_name": "ProgressStyleModel",
            "_view_count": null,
            "_view_module": "@jupyter-widgets/base",
            "_view_module_version": "1.2.0",
            "_view_name": "StyleView",
            "bar_color": null,
            "description_width": ""
          }
        },
        "7a8194bb4c424df0921d718cc35815a9": {
          "model_module": "@jupyter-widgets/base",
          "model_name": "LayoutModel",
          "model_module_version": "1.2.0",
          "state": {
            "_model_module": "@jupyter-widgets/base",
            "_model_module_version": "1.2.0",
            "_model_name": "LayoutModel",
            "_view_count": null,
            "_view_module": "@jupyter-widgets/base",
            "_view_module_version": "1.2.0",
            "_view_name": "LayoutView",
            "align_content": null,
            "align_items": null,
            "align_self": null,
            "border": null,
            "bottom": null,
            "display": null,
            "flex": null,
            "flex_flow": null,
            "grid_area": null,
            "grid_auto_columns": null,
            "grid_auto_flow": null,
            "grid_auto_rows": null,
            "grid_column": null,
            "grid_gap": null,
            "grid_row": null,
            "grid_template_areas": null,
            "grid_template_columns": null,
            "grid_template_rows": null,
            "height": null,
            "justify_content": null,
            "justify_items": null,
            "left": null,
            "margin": null,
            "max_height": null,
            "max_width": null,
            "min_height": null,
            "min_width": null,
            "object_fit": null,
            "object_position": null,
            "order": null,
            "overflow": null,
            "overflow_x": null,
            "overflow_y": null,
            "padding": null,
            "right": null,
            "top": null,
            "visibility": null,
            "width": null
          }
        },
        "4a3c3261562942c2b6f21e7fbe5f65e1": {
          "model_module": "@jupyter-widgets/controls",
          "model_name": "DescriptionStyleModel",
          "model_module_version": "1.5.0",
          "state": {
            "_model_module": "@jupyter-widgets/controls",
            "_model_module_version": "1.5.0",
            "_model_name": "DescriptionStyleModel",
            "_view_count": null,
            "_view_module": "@jupyter-widgets/base",
            "_view_module_version": "1.2.0",
            "_view_name": "StyleView",
            "description_width": ""
          }
        },
        "4fff105eab7a41cf8944192d6a0caa77": {
          "model_module": "@jupyter-widgets/controls",
          "model_name": "HBoxModel",
          "model_module_version": "1.5.0",
          "state": {
            "_dom_classes": [],
            "_model_module": "@jupyter-widgets/controls",
            "_model_module_version": "1.5.0",
            "_model_name": "HBoxModel",
            "_view_count": null,
            "_view_module": "@jupyter-widgets/controls",
            "_view_module_version": "1.5.0",
            "_view_name": "HBoxView",
            "box_style": "",
            "children": [
              "IPY_MODEL_3441f522efdf4b1fa48033196a72501c",
              "IPY_MODEL_234e26433b4c421d951559037ba102fc",
              "IPY_MODEL_d783e9a80e164050bc4338c7dcad5214"
            ],
            "layout": "IPY_MODEL_46331d2886e24746b14826497241b513"
          }
        },
        "3441f522efdf4b1fa48033196a72501c": {
          "model_module": "@jupyter-widgets/controls",
          "model_name": "HTMLModel",
          "model_module_version": "1.5.0",
          "state": {
            "_dom_classes": [],
            "_model_module": "@jupyter-widgets/controls",
            "_model_module_version": "1.5.0",
            "_model_name": "HTMLModel",
            "_view_count": null,
            "_view_module": "@jupyter-widgets/controls",
            "_view_module_version": "1.5.0",
            "_view_name": "HTMLView",
            "description": "",
            "description_tooltip": null,
            "layout": "IPY_MODEL_1cc12006e96e4fa09bcce6121840e8b9",
            "placeholder": "​",
            "style": "IPY_MODEL_1eb6b0e4a6c540cb9315f0196562a459",
            "value": "100%"
          }
        },
        "234e26433b4c421d951559037ba102fc": {
          "model_module": "@jupyter-widgets/controls",
          "model_name": "FloatProgressModel",
          "model_module_version": "1.5.0",
          "state": {
            "_dom_classes": [],
            "_model_module": "@jupyter-widgets/controls",
            "_model_module_version": "1.5.0",
            "_model_name": "FloatProgressModel",
            "_view_count": null,
            "_view_module": "@jupyter-widgets/controls",
            "_view_module_version": "1.5.0",
            "_view_name": "ProgressView",
            "bar_style": "success",
            "description": "",
            "description_tooltip": null,
            "layout": "IPY_MODEL_bca247c491204009b5b739a9d57d2c5d",
            "max": 7,
            "min": 0,
            "orientation": "horizontal",
            "style": "IPY_MODEL_27cc961a82954747a82b985141cb26e7",
            "value": 7
          }
        },
        "d783e9a80e164050bc4338c7dcad5214": {
          "model_module": "@jupyter-widgets/controls",
          "model_name": "HTMLModel",
          "model_module_version": "1.5.0",
          "state": {
            "_dom_classes": [],
            "_model_module": "@jupyter-widgets/controls",
            "_model_module_version": "1.5.0",
            "_model_name": "HTMLModel",
            "_view_count": null,
            "_view_module": "@jupyter-widgets/controls",
            "_view_module_version": "1.5.0",
            "_view_name": "HTMLView",
            "description": "",
            "description_tooltip": null,
            "layout": "IPY_MODEL_2c138c6e01e943c2bf6b4ce53f9c0efe",
            "placeholder": "​",
            "style": "IPY_MODEL_31b7720578d442f28f413792346c0626",
            "value": " 7/7 [03:42&lt;00:00, 27.09s/it]"
          }
        },
        "46331d2886e24746b14826497241b513": {
          "model_module": "@jupyter-widgets/base",
          "model_name": "LayoutModel",
          "model_module_version": "1.2.0",
          "state": {
            "_model_module": "@jupyter-widgets/base",
            "_model_module_version": "1.2.0",
            "_model_name": "LayoutModel",
            "_view_count": null,
            "_view_module": "@jupyter-widgets/base",
            "_view_module_version": "1.2.0",
            "_view_name": "LayoutView",
            "align_content": null,
            "align_items": null,
            "align_self": null,
            "border": null,
            "bottom": null,
            "display": null,
            "flex": null,
            "flex_flow": null,
            "grid_area": null,
            "grid_auto_columns": null,
            "grid_auto_flow": null,
            "grid_auto_rows": null,
            "grid_column": null,
            "grid_gap": null,
            "grid_row": null,
            "grid_template_areas": null,
            "grid_template_columns": null,
            "grid_template_rows": null,
            "height": null,
            "justify_content": null,
            "justify_items": null,
            "left": null,
            "margin": null,
            "max_height": null,
            "max_width": null,
            "min_height": null,
            "min_width": null,
            "object_fit": null,
            "object_position": null,
            "order": null,
            "overflow": null,
            "overflow_x": null,
            "overflow_y": null,
            "padding": null,
            "right": null,
            "top": null,
            "visibility": null,
            "width": null
          }
        },
        "1cc12006e96e4fa09bcce6121840e8b9": {
          "model_module": "@jupyter-widgets/base",
          "model_name": "LayoutModel",
          "model_module_version": "1.2.0",
          "state": {
            "_model_module": "@jupyter-widgets/base",
            "_model_module_version": "1.2.0",
            "_model_name": "LayoutModel",
            "_view_count": null,
            "_view_module": "@jupyter-widgets/base",
            "_view_module_version": "1.2.0",
            "_view_name": "LayoutView",
            "align_content": null,
            "align_items": null,
            "align_self": null,
            "border": null,
            "bottom": null,
            "display": null,
            "flex": null,
            "flex_flow": null,
            "grid_area": null,
            "grid_auto_columns": null,
            "grid_auto_flow": null,
            "grid_auto_rows": null,
            "grid_column": null,
            "grid_gap": null,
            "grid_row": null,
            "grid_template_areas": null,
            "grid_template_columns": null,
            "grid_template_rows": null,
            "height": null,
            "justify_content": null,
            "justify_items": null,
            "left": null,
            "margin": null,
            "max_height": null,
            "max_width": null,
            "min_height": null,
            "min_width": null,
            "object_fit": null,
            "object_position": null,
            "order": null,
            "overflow": null,
            "overflow_x": null,
            "overflow_y": null,
            "padding": null,
            "right": null,
            "top": null,
            "visibility": null,
            "width": null
          }
        },
        "1eb6b0e4a6c540cb9315f0196562a459": {
          "model_module": "@jupyter-widgets/controls",
          "model_name": "DescriptionStyleModel",
          "model_module_version": "1.5.0",
          "state": {
            "_model_module": "@jupyter-widgets/controls",
            "_model_module_version": "1.5.0",
            "_model_name": "DescriptionStyleModel",
            "_view_count": null,
            "_view_module": "@jupyter-widgets/base",
            "_view_module_version": "1.2.0",
            "_view_name": "StyleView",
            "description_width": ""
          }
        },
        "bca247c491204009b5b739a9d57d2c5d": {
          "model_module": "@jupyter-widgets/base",
          "model_name": "LayoutModel",
          "model_module_version": "1.2.0",
          "state": {
            "_model_module": "@jupyter-widgets/base",
            "_model_module_version": "1.2.0",
            "_model_name": "LayoutModel",
            "_view_count": null,
            "_view_module": "@jupyter-widgets/base",
            "_view_module_version": "1.2.0",
            "_view_name": "LayoutView",
            "align_content": null,
            "align_items": null,
            "align_self": null,
            "border": null,
            "bottom": null,
            "display": null,
            "flex": null,
            "flex_flow": null,
            "grid_area": null,
            "grid_auto_columns": null,
            "grid_auto_flow": null,
            "grid_auto_rows": null,
            "grid_column": null,
            "grid_gap": null,
            "grid_row": null,
            "grid_template_areas": null,
            "grid_template_columns": null,
            "grid_template_rows": null,
            "height": null,
            "justify_content": null,
            "justify_items": null,
            "left": null,
            "margin": null,
            "max_height": null,
            "max_width": null,
            "min_height": null,
            "min_width": null,
            "object_fit": null,
            "object_position": null,
            "order": null,
            "overflow": null,
            "overflow_x": null,
            "overflow_y": null,
            "padding": null,
            "right": null,
            "top": null,
            "visibility": null,
            "width": null
          }
        },
        "27cc961a82954747a82b985141cb26e7": {
          "model_module": "@jupyter-widgets/controls",
          "model_name": "ProgressStyleModel",
          "model_module_version": "1.5.0",
          "state": {
            "_model_module": "@jupyter-widgets/controls",
            "_model_module_version": "1.5.0",
            "_model_name": "ProgressStyleModel",
            "_view_count": null,
            "_view_module": "@jupyter-widgets/base",
            "_view_module_version": "1.2.0",
            "_view_name": "StyleView",
            "bar_color": null,
            "description_width": ""
          }
        },
        "2c138c6e01e943c2bf6b4ce53f9c0efe": {
          "model_module": "@jupyter-widgets/base",
          "model_name": "LayoutModel",
          "model_module_version": "1.2.0",
          "state": {
            "_model_module": "@jupyter-widgets/base",
            "_model_module_version": "1.2.0",
            "_model_name": "LayoutModel",
            "_view_count": null,
            "_view_module": "@jupyter-widgets/base",
            "_view_module_version": "1.2.0",
            "_view_name": "LayoutView",
            "align_content": null,
            "align_items": null,
            "align_self": null,
            "border": null,
            "bottom": null,
            "display": null,
            "flex": null,
            "flex_flow": null,
            "grid_area": null,
            "grid_auto_columns": null,
            "grid_auto_flow": null,
            "grid_auto_rows": null,
            "grid_column": null,
            "grid_gap": null,
            "grid_row": null,
            "grid_template_areas": null,
            "grid_template_columns": null,
            "grid_template_rows": null,
            "height": null,
            "justify_content": null,
            "justify_items": null,
            "left": null,
            "margin": null,
            "max_height": null,
            "max_width": null,
            "min_height": null,
            "min_width": null,
            "object_fit": null,
            "object_position": null,
            "order": null,
            "overflow": null,
            "overflow_x": null,
            "overflow_y": null,
            "padding": null,
            "right": null,
            "top": null,
            "visibility": null,
            "width": null
          }
        },
        "31b7720578d442f28f413792346c0626": {
          "model_module": "@jupyter-widgets/controls",
          "model_name": "DescriptionStyleModel",
          "model_module_version": "1.5.0",
          "state": {
            "_model_module": "@jupyter-widgets/controls",
            "_model_module_version": "1.5.0",
            "_model_name": "DescriptionStyleModel",
            "_view_count": null,
            "_view_module": "@jupyter-widgets/base",
            "_view_module_version": "1.2.0",
            "_view_name": "StyleView",
            "description_width": ""
          }
        },
        "b6b946a9ec0149e79f42c2ce0b24f557": {
          "model_module": "@jupyter-widgets/controls",
          "model_name": "HBoxModel",
          "model_module_version": "1.5.0",
          "state": {
            "_dom_classes": [],
            "_model_module": "@jupyter-widgets/controls",
            "_model_module_version": "1.5.0",
            "_model_name": "HBoxModel",
            "_view_count": null,
            "_view_module": "@jupyter-widgets/controls",
            "_view_module_version": "1.5.0",
            "_view_name": "HBoxView",
            "box_style": "",
            "children": [
              "IPY_MODEL_ae7014f634d04564809a9eb63ddcb368",
              "IPY_MODEL_007f84590fce440190bfa39560e8aa87",
              "IPY_MODEL_af739cd5efe24af5879d5a57d1f39b31"
            ],
            "layout": "IPY_MODEL_7cf271e850de41bc8a1cce62a4d2d1a3"
          }
        },
        "ae7014f634d04564809a9eb63ddcb368": {
          "model_module": "@jupyter-widgets/controls",
          "model_name": "HTMLModel",
          "model_module_version": "1.5.0",
          "state": {
            "_dom_classes": [],
            "_model_module": "@jupyter-widgets/controls",
            "_model_module_version": "1.5.0",
            "_model_name": "HTMLModel",
            "_view_count": null,
            "_view_module": "@jupyter-widgets/controls",
            "_view_module_version": "1.5.0",
            "_view_name": "HTMLView",
            "description": "",
            "description_tooltip": null,
            "layout": "IPY_MODEL_bd4c59365a8443a08141b0a590d0cce8",
            "placeholder": "​",
            "style": "IPY_MODEL_b0e42a7ffa8141c1a4256147c91d3375",
            "value": "100%"
          }
        },
        "007f84590fce440190bfa39560e8aa87": {
          "model_module": "@jupyter-widgets/controls",
          "model_name": "FloatProgressModel",
          "model_module_version": "1.5.0",
          "state": {
            "_dom_classes": [],
            "_model_module": "@jupyter-widgets/controls",
            "_model_module_version": "1.5.0",
            "_model_name": "FloatProgressModel",
            "_view_count": null,
            "_view_module": "@jupyter-widgets/controls",
            "_view_module_version": "1.5.0",
            "_view_name": "ProgressView",
            "bar_style": "success",
            "description": "",
            "description_tooltip": null,
            "layout": "IPY_MODEL_d06046bea496438d9bbe4b8651f637ae",
            "max": 7,
            "min": 0,
            "orientation": "horizontal",
            "style": "IPY_MODEL_f1529f5bf4614aeb8712cfb305ce6a18",
            "value": 7
          }
        },
        "af739cd5efe24af5879d5a57d1f39b31": {
          "model_module": "@jupyter-widgets/controls",
          "model_name": "HTMLModel",
          "model_module_version": "1.5.0",
          "state": {
            "_dom_classes": [],
            "_model_module": "@jupyter-widgets/controls",
            "_model_module_version": "1.5.0",
            "_model_name": "HTMLModel",
            "_view_count": null,
            "_view_module": "@jupyter-widgets/controls",
            "_view_module_version": "1.5.0",
            "_view_name": "HTMLView",
            "description": "",
            "description_tooltip": null,
            "layout": "IPY_MODEL_3cf0f671c4ce4d36a7a0a8fc8f3c9966",
            "placeholder": "​",
            "style": "IPY_MODEL_709797c49e9444fc963c6a18d56b8ef9",
            "value": " 7/7 [03:42&lt;00:00, 27.23s/it]"
          }
        },
        "7cf271e850de41bc8a1cce62a4d2d1a3": {
          "model_module": "@jupyter-widgets/base",
          "model_name": "LayoutModel",
          "model_module_version": "1.2.0",
          "state": {
            "_model_module": "@jupyter-widgets/base",
            "_model_module_version": "1.2.0",
            "_model_name": "LayoutModel",
            "_view_count": null,
            "_view_module": "@jupyter-widgets/base",
            "_view_module_version": "1.2.0",
            "_view_name": "LayoutView",
            "align_content": null,
            "align_items": null,
            "align_self": null,
            "border": null,
            "bottom": null,
            "display": null,
            "flex": null,
            "flex_flow": null,
            "grid_area": null,
            "grid_auto_columns": null,
            "grid_auto_flow": null,
            "grid_auto_rows": null,
            "grid_column": null,
            "grid_gap": null,
            "grid_row": null,
            "grid_template_areas": null,
            "grid_template_columns": null,
            "grid_template_rows": null,
            "height": null,
            "justify_content": null,
            "justify_items": null,
            "left": null,
            "margin": null,
            "max_height": null,
            "max_width": null,
            "min_height": null,
            "min_width": null,
            "object_fit": null,
            "object_position": null,
            "order": null,
            "overflow": null,
            "overflow_x": null,
            "overflow_y": null,
            "padding": null,
            "right": null,
            "top": null,
            "visibility": null,
            "width": null
          }
        },
        "bd4c59365a8443a08141b0a590d0cce8": {
          "model_module": "@jupyter-widgets/base",
          "model_name": "LayoutModel",
          "model_module_version": "1.2.0",
          "state": {
            "_model_module": "@jupyter-widgets/base",
            "_model_module_version": "1.2.0",
            "_model_name": "LayoutModel",
            "_view_count": null,
            "_view_module": "@jupyter-widgets/base",
            "_view_module_version": "1.2.0",
            "_view_name": "LayoutView",
            "align_content": null,
            "align_items": null,
            "align_self": null,
            "border": null,
            "bottom": null,
            "display": null,
            "flex": null,
            "flex_flow": null,
            "grid_area": null,
            "grid_auto_columns": null,
            "grid_auto_flow": null,
            "grid_auto_rows": null,
            "grid_column": null,
            "grid_gap": null,
            "grid_row": null,
            "grid_template_areas": null,
            "grid_template_columns": null,
            "grid_template_rows": null,
            "height": null,
            "justify_content": null,
            "justify_items": null,
            "left": null,
            "margin": null,
            "max_height": null,
            "max_width": null,
            "min_height": null,
            "min_width": null,
            "object_fit": null,
            "object_position": null,
            "order": null,
            "overflow": null,
            "overflow_x": null,
            "overflow_y": null,
            "padding": null,
            "right": null,
            "top": null,
            "visibility": null,
            "width": null
          }
        },
        "b0e42a7ffa8141c1a4256147c91d3375": {
          "model_module": "@jupyter-widgets/controls",
          "model_name": "DescriptionStyleModel",
          "model_module_version": "1.5.0",
          "state": {
            "_model_module": "@jupyter-widgets/controls",
            "_model_module_version": "1.5.0",
            "_model_name": "DescriptionStyleModel",
            "_view_count": null,
            "_view_module": "@jupyter-widgets/base",
            "_view_module_version": "1.2.0",
            "_view_name": "StyleView",
            "description_width": ""
          }
        },
        "d06046bea496438d9bbe4b8651f637ae": {
          "model_module": "@jupyter-widgets/base",
          "model_name": "LayoutModel",
          "model_module_version": "1.2.0",
          "state": {
            "_model_module": "@jupyter-widgets/base",
            "_model_module_version": "1.2.0",
            "_model_name": "LayoutModel",
            "_view_count": null,
            "_view_module": "@jupyter-widgets/base",
            "_view_module_version": "1.2.0",
            "_view_name": "LayoutView",
            "align_content": null,
            "align_items": null,
            "align_self": null,
            "border": null,
            "bottom": null,
            "display": null,
            "flex": null,
            "flex_flow": null,
            "grid_area": null,
            "grid_auto_columns": null,
            "grid_auto_flow": null,
            "grid_auto_rows": null,
            "grid_column": null,
            "grid_gap": null,
            "grid_row": null,
            "grid_template_areas": null,
            "grid_template_columns": null,
            "grid_template_rows": null,
            "height": null,
            "justify_content": null,
            "justify_items": null,
            "left": null,
            "margin": null,
            "max_height": null,
            "max_width": null,
            "min_height": null,
            "min_width": null,
            "object_fit": null,
            "object_position": null,
            "order": null,
            "overflow": null,
            "overflow_x": null,
            "overflow_y": null,
            "padding": null,
            "right": null,
            "top": null,
            "visibility": null,
            "width": null
          }
        },
        "f1529f5bf4614aeb8712cfb305ce6a18": {
          "model_module": "@jupyter-widgets/controls",
          "model_name": "ProgressStyleModel",
          "model_module_version": "1.5.0",
          "state": {
            "_model_module": "@jupyter-widgets/controls",
            "_model_module_version": "1.5.0",
            "_model_name": "ProgressStyleModel",
            "_view_count": null,
            "_view_module": "@jupyter-widgets/base",
            "_view_module_version": "1.2.0",
            "_view_name": "StyleView",
            "bar_color": null,
            "description_width": ""
          }
        },
        "3cf0f671c4ce4d36a7a0a8fc8f3c9966": {
          "model_module": "@jupyter-widgets/base",
          "model_name": "LayoutModel",
          "model_module_version": "1.2.0",
          "state": {
            "_model_module": "@jupyter-widgets/base",
            "_model_module_version": "1.2.0",
            "_model_name": "LayoutModel",
            "_view_count": null,
            "_view_module": "@jupyter-widgets/base",
            "_view_module_version": "1.2.0",
            "_view_name": "LayoutView",
            "align_content": null,
            "align_items": null,
            "align_self": null,
            "border": null,
            "bottom": null,
            "display": null,
            "flex": null,
            "flex_flow": null,
            "grid_area": null,
            "grid_auto_columns": null,
            "grid_auto_flow": null,
            "grid_auto_rows": null,
            "grid_column": null,
            "grid_gap": null,
            "grid_row": null,
            "grid_template_areas": null,
            "grid_template_columns": null,
            "grid_template_rows": null,
            "height": null,
            "justify_content": null,
            "justify_items": null,
            "left": null,
            "margin": null,
            "max_height": null,
            "max_width": null,
            "min_height": null,
            "min_width": null,
            "object_fit": null,
            "object_position": null,
            "order": null,
            "overflow": null,
            "overflow_x": null,
            "overflow_y": null,
            "padding": null,
            "right": null,
            "top": null,
            "visibility": null,
            "width": null
          }
        },
        "709797c49e9444fc963c6a18d56b8ef9": {
          "model_module": "@jupyter-widgets/controls",
          "model_name": "DescriptionStyleModel",
          "model_module_version": "1.5.0",
          "state": {
            "_model_module": "@jupyter-widgets/controls",
            "_model_module_version": "1.5.0",
            "_model_name": "DescriptionStyleModel",
            "_view_count": null,
            "_view_module": "@jupyter-widgets/base",
            "_view_module_version": "1.2.0",
            "_view_name": "StyleView",
            "description_width": ""
          }
        },
        "a17ecb815f564571aade4e8f885c2e33": {
          "model_module": "@jupyter-widgets/controls",
          "model_name": "HBoxModel",
          "model_module_version": "1.5.0",
          "state": {
            "_dom_classes": [],
            "_model_module": "@jupyter-widgets/controls",
            "_model_module_version": "1.5.0",
            "_model_name": "HBoxModel",
            "_view_count": null,
            "_view_module": "@jupyter-widgets/controls",
            "_view_module_version": "1.5.0",
            "_view_name": "HBoxView",
            "box_style": "",
            "children": [
              "IPY_MODEL_f83fe8fb5ca74e1691d20738062d3dad",
              "IPY_MODEL_01e927e706f74c6aab265372083c14ed",
              "IPY_MODEL_f1ea1517f61a4bfe8d44e2fe6c4896c8"
            ],
            "layout": "IPY_MODEL_4843211d266748e0a0ce1ce72829670d"
          }
        },
        "f83fe8fb5ca74e1691d20738062d3dad": {
          "model_module": "@jupyter-widgets/controls",
          "model_name": "HTMLModel",
          "model_module_version": "1.5.0",
          "state": {
            "_dom_classes": [],
            "_model_module": "@jupyter-widgets/controls",
            "_model_module_version": "1.5.0",
            "_model_name": "HTMLModel",
            "_view_count": null,
            "_view_module": "@jupyter-widgets/controls",
            "_view_module_version": "1.5.0",
            "_view_name": "HTMLView",
            "description": "",
            "description_tooltip": null,
            "layout": "IPY_MODEL_0643542131e54f29ae79fadf220b3705",
            "placeholder": "​",
            "style": "IPY_MODEL_fd5c9ca5a6174afebe9088512767be20",
            "value": "100%"
          }
        },
        "01e927e706f74c6aab265372083c14ed": {
          "model_module": "@jupyter-widgets/controls",
          "model_name": "FloatProgressModel",
          "model_module_version": "1.5.0",
          "state": {
            "_dom_classes": [],
            "_model_module": "@jupyter-widgets/controls",
            "_model_module_version": "1.5.0",
            "_model_name": "FloatProgressModel",
            "_view_count": null,
            "_view_module": "@jupyter-widgets/controls",
            "_view_module_version": "1.5.0",
            "_view_name": "ProgressView",
            "bar_style": "success",
            "description": "",
            "description_tooltip": null,
            "layout": "IPY_MODEL_9a0105b39b0a451b83d013904ee02b8f",
            "max": 7,
            "min": 0,
            "orientation": "horizontal",
            "style": "IPY_MODEL_81a069ed5ee843e9b0e6f7d64be04c92",
            "value": 7
          }
        },
        "f1ea1517f61a4bfe8d44e2fe6c4896c8": {
          "model_module": "@jupyter-widgets/controls",
          "model_name": "HTMLModel",
          "model_module_version": "1.5.0",
          "state": {
            "_dom_classes": [],
            "_model_module": "@jupyter-widgets/controls",
            "_model_module_version": "1.5.0",
            "_model_name": "HTMLModel",
            "_view_count": null,
            "_view_module": "@jupyter-widgets/controls",
            "_view_module_version": "1.5.0",
            "_view_name": "HTMLView",
            "description": "",
            "description_tooltip": null,
            "layout": "IPY_MODEL_c193c1e97e464b0b862b5e94eb75de6b",
            "placeholder": "​",
            "style": "IPY_MODEL_68c86e4a21c14603b9a6d1a7ece928b8",
            "value": " 7/7 [03:44&lt;00:00, 27.05s/it]"
          }
        },
        "4843211d266748e0a0ce1ce72829670d": {
          "model_module": "@jupyter-widgets/base",
          "model_name": "LayoutModel",
          "model_module_version": "1.2.0",
          "state": {
            "_model_module": "@jupyter-widgets/base",
            "_model_module_version": "1.2.0",
            "_model_name": "LayoutModel",
            "_view_count": null,
            "_view_module": "@jupyter-widgets/base",
            "_view_module_version": "1.2.0",
            "_view_name": "LayoutView",
            "align_content": null,
            "align_items": null,
            "align_self": null,
            "border": null,
            "bottom": null,
            "display": null,
            "flex": null,
            "flex_flow": null,
            "grid_area": null,
            "grid_auto_columns": null,
            "grid_auto_flow": null,
            "grid_auto_rows": null,
            "grid_column": null,
            "grid_gap": null,
            "grid_row": null,
            "grid_template_areas": null,
            "grid_template_columns": null,
            "grid_template_rows": null,
            "height": null,
            "justify_content": null,
            "justify_items": null,
            "left": null,
            "margin": null,
            "max_height": null,
            "max_width": null,
            "min_height": null,
            "min_width": null,
            "object_fit": null,
            "object_position": null,
            "order": null,
            "overflow": null,
            "overflow_x": null,
            "overflow_y": null,
            "padding": null,
            "right": null,
            "top": null,
            "visibility": null,
            "width": null
          }
        },
        "0643542131e54f29ae79fadf220b3705": {
          "model_module": "@jupyter-widgets/base",
          "model_name": "LayoutModel",
          "model_module_version": "1.2.0",
          "state": {
            "_model_module": "@jupyter-widgets/base",
            "_model_module_version": "1.2.0",
            "_model_name": "LayoutModel",
            "_view_count": null,
            "_view_module": "@jupyter-widgets/base",
            "_view_module_version": "1.2.0",
            "_view_name": "LayoutView",
            "align_content": null,
            "align_items": null,
            "align_self": null,
            "border": null,
            "bottom": null,
            "display": null,
            "flex": null,
            "flex_flow": null,
            "grid_area": null,
            "grid_auto_columns": null,
            "grid_auto_flow": null,
            "grid_auto_rows": null,
            "grid_column": null,
            "grid_gap": null,
            "grid_row": null,
            "grid_template_areas": null,
            "grid_template_columns": null,
            "grid_template_rows": null,
            "height": null,
            "justify_content": null,
            "justify_items": null,
            "left": null,
            "margin": null,
            "max_height": null,
            "max_width": null,
            "min_height": null,
            "min_width": null,
            "object_fit": null,
            "object_position": null,
            "order": null,
            "overflow": null,
            "overflow_x": null,
            "overflow_y": null,
            "padding": null,
            "right": null,
            "top": null,
            "visibility": null,
            "width": null
          }
        },
        "fd5c9ca5a6174afebe9088512767be20": {
          "model_module": "@jupyter-widgets/controls",
          "model_name": "DescriptionStyleModel",
          "model_module_version": "1.5.0",
          "state": {
            "_model_module": "@jupyter-widgets/controls",
            "_model_module_version": "1.5.0",
            "_model_name": "DescriptionStyleModel",
            "_view_count": null,
            "_view_module": "@jupyter-widgets/base",
            "_view_module_version": "1.2.0",
            "_view_name": "StyleView",
            "description_width": ""
          }
        },
        "9a0105b39b0a451b83d013904ee02b8f": {
          "model_module": "@jupyter-widgets/base",
          "model_name": "LayoutModel",
          "model_module_version": "1.2.0",
          "state": {
            "_model_module": "@jupyter-widgets/base",
            "_model_module_version": "1.2.0",
            "_model_name": "LayoutModel",
            "_view_count": null,
            "_view_module": "@jupyter-widgets/base",
            "_view_module_version": "1.2.0",
            "_view_name": "LayoutView",
            "align_content": null,
            "align_items": null,
            "align_self": null,
            "border": null,
            "bottom": null,
            "display": null,
            "flex": null,
            "flex_flow": null,
            "grid_area": null,
            "grid_auto_columns": null,
            "grid_auto_flow": null,
            "grid_auto_rows": null,
            "grid_column": null,
            "grid_gap": null,
            "grid_row": null,
            "grid_template_areas": null,
            "grid_template_columns": null,
            "grid_template_rows": null,
            "height": null,
            "justify_content": null,
            "justify_items": null,
            "left": null,
            "margin": null,
            "max_height": null,
            "max_width": null,
            "min_height": null,
            "min_width": null,
            "object_fit": null,
            "object_position": null,
            "order": null,
            "overflow": null,
            "overflow_x": null,
            "overflow_y": null,
            "padding": null,
            "right": null,
            "top": null,
            "visibility": null,
            "width": null
          }
        },
        "81a069ed5ee843e9b0e6f7d64be04c92": {
          "model_module": "@jupyter-widgets/controls",
          "model_name": "ProgressStyleModel",
          "model_module_version": "1.5.0",
          "state": {
            "_model_module": "@jupyter-widgets/controls",
            "_model_module_version": "1.5.0",
            "_model_name": "ProgressStyleModel",
            "_view_count": null,
            "_view_module": "@jupyter-widgets/base",
            "_view_module_version": "1.2.0",
            "_view_name": "StyleView",
            "bar_color": null,
            "description_width": ""
          }
        },
        "c193c1e97e464b0b862b5e94eb75de6b": {
          "model_module": "@jupyter-widgets/base",
          "model_name": "LayoutModel",
          "model_module_version": "1.2.0",
          "state": {
            "_model_module": "@jupyter-widgets/base",
            "_model_module_version": "1.2.0",
            "_model_name": "LayoutModel",
            "_view_count": null,
            "_view_module": "@jupyter-widgets/base",
            "_view_module_version": "1.2.0",
            "_view_name": "LayoutView",
            "align_content": null,
            "align_items": null,
            "align_self": null,
            "border": null,
            "bottom": null,
            "display": null,
            "flex": null,
            "flex_flow": null,
            "grid_area": null,
            "grid_auto_columns": null,
            "grid_auto_flow": null,
            "grid_auto_rows": null,
            "grid_column": null,
            "grid_gap": null,
            "grid_row": null,
            "grid_template_areas": null,
            "grid_template_columns": null,
            "grid_template_rows": null,
            "height": null,
            "justify_content": null,
            "justify_items": null,
            "left": null,
            "margin": null,
            "max_height": null,
            "max_width": null,
            "min_height": null,
            "min_width": null,
            "object_fit": null,
            "object_position": null,
            "order": null,
            "overflow": null,
            "overflow_x": null,
            "overflow_y": null,
            "padding": null,
            "right": null,
            "top": null,
            "visibility": null,
            "width": null
          }
        },
        "68c86e4a21c14603b9a6d1a7ece928b8": {
          "model_module": "@jupyter-widgets/controls",
          "model_name": "DescriptionStyleModel",
          "model_module_version": "1.5.0",
          "state": {
            "_model_module": "@jupyter-widgets/controls",
            "_model_module_version": "1.5.0",
            "_model_name": "DescriptionStyleModel",
            "_view_count": null,
            "_view_module": "@jupyter-widgets/base",
            "_view_module_version": "1.2.0",
            "_view_name": "StyleView",
            "description_width": ""
          }
        },
        "5e43c8ea0ca64c1ea215574dc9f9e435": {
          "model_module": "@jupyter-widgets/controls",
          "model_name": "HBoxModel",
          "model_module_version": "1.5.0",
          "state": {
            "_dom_classes": [],
            "_model_module": "@jupyter-widgets/controls",
            "_model_module_version": "1.5.0",
            "_model_name": "HBoxModel",
            "_view_count": null,
            "_view_module": "@jupyter-widgets/controls",
            "_view_module_version": "1.5.0",
            "_view_name": "HBoxView",
            "box_style": "",
            "children": [
              "IPY_MODEL_2d2d26be53f3430c9290c5df950a6348",
              "IPY_MODEL_5eaa98ba3dba44b5b8630ce30f870700",
              "IPY_MODEL_305497e6800f49228bb442e3c23ab6ac"
            ],
            "layout": "IPY_MODEL_6db1eca4eba14f2f9c958a494d98183c"
          }
        },
        "2d2d26be53f3430c9290c5df950a6348": {
          "model_module": "@jupyter-widgets/controls",
          "model_name": "HTMLModel",
          "model_module_version": "1.5.0",
          "state": {
            "_dom_classes": [],
            "_model_module": "@jupyter-widgets/controls",
            "_model_module_version": "1.5.0",
            "_model_name": "HTMLModel",
            "_view_count": null,
            "_view_module": "@jupyter-widgets/controls",
            "_view_module_version": "1.5.0",
            "_view_name": "HTMLView",
            "description": "",
            "description_tooltip": null,
            "layout": "IPY_MODEL_e057108859834d249f6311a12c37468f",
            "placeholder": "​",
            "style": "IPY_MODEL_5871332e7b684a85932d9aff086521df",
            "value": "100%"
          }
        },
        "5eaa98ba3dba44b5b8630ce30f870700": {
          "model_module": "@jupyter-widgets/controls",
          "model_name": "FloatProgressModel",
          "model_module_version": "1.5.0",
          "state": {
            "_dom_classes": [],
            "_model_module": "@jupyter-widgets/controls",
            "_model_module_version": "1.5.0",
            "_model_name": "FloatProgressModel",
            "_view_count": null,
            "_view_module": "@jupyter-widgets/controls",
            "_view_module_version": "1.5.0",
            "_view_name": "ProgressView",
            "bar_style": "success",
            "description": "",
            "description_tooltip": null,
            "layout": "IPY_MODEL_599771b75d1e429eb02e09927a792b37",
            "max": 7,
            "min": 0,
            "orientation": "horizontal",
            "style": "IPY_MODEL_63a143b2c33e4041a52ab5ae9b3cfc09",
            "value": 7
          }
        },
        "305497e6800f49228bb442e3c23ab6ac": {
          "model_module": "@jupyter-widgets/controls",
          "model_name": "HTMLModel",
          "model_module_version": "1.5.0",
          "state": {
            "_dom_classes": [],
            "_model_module": "@jupyter-widgets/controls",
            "_model_module_version": "1.5.0",
            "_model_name": "HTMLModel",
            "_view_count": null,
            "_view_module": "@jupyter-widgets/controls",
            "_view_module_version": "1.5.0",
            "_view_name": "HTMLView",
            "description": "",
            "description_tooltip": null,
            "layout": "IPY_MODEL_1ca38d932a254a08b82f5b10b30dfbaf",
            "placeholder": "​",
            "style": "IPY_MODEL_2f1ed94cfe8e44beae0037a8492d03a9",
            "value": " 7/7 [03:55&lt;00:00, 30.21s/it]"
          }
        },
        "6db1eca4eba14f2f9c958a494d98183c": {
          "model_module": "@jupyter-widgets/base",
          "model_name": "LayoutModel",
          "model_module_version": "1.2.0",
          "state": {
            "_model_module": "@jupyter-widgets/base",
            "_model_module_version": "1.2.0",
            "_model_name": "LayoutModel",
            "_view_count": null,
            "_view_module": "@jupyter-widgets/base",
            "_view_module_version": "1.2.0",
            "_view_name": "LayoutView",
            "align_content": null,
            "align_items": null,
            "align_self": null,
            "border": null,
            "bottom": null,
            "display": null,
            "flex": null,
            "flex_flow": null,
            "grid_area": null,
            "grid_auto_columns": null,
            "grid_auto_flow": null,
            "grid_auto_rows": null,
            "grid_column": null,
            "grid_gap": null,
            "grid_row": null,
            "grid_template_areas": null,
            "grid_template_columns": null,
            "grid_template_rows": null,
            "height": null,
            "justify_content": null,
            "justify_items": null,
            "left": null,
            "margin": null,
            "max_height": null,
            "max_width": null,
            "min_height": null,
            "min_width": null,
            "object_fit": null,
            "object_position": null,
            "order": null,
            "overflow": null,
            "overflow_x": null,
            "overflow_y": null,
            "padding": null,
            "right": null,
            "top": null,
            "visibility": null,
            "width": null
          }
        },
        "e057108859834d249f6311a12c37468f": {
          "model_module": "@jupyter-widgets/base",
          "model_name": "LayoutModel",
          "model_module_version": "1.2.0",
          "state": {
            "_model_module": "@jupyter-widgets/base",
            "_model_module_version": "1.2.0",
            "_model_name": "LayoutModel",
            "_view_count": null,
            "_view_module": "@jupyter-widgets/base",
            "_view_module_version": "1.2.0",
            "_view_name": "LayoutView",
            "align_content": null,
            "align_items": null,
            "align_self": null,
            "border": null,
            "bottom": null,
            "display": null,
            "flex": null,
            "flex_flow": null,
            "grid_area": null,
            "grid_auto_columns": null,
            "grid_auto_flow": null,
            "grid_auto_rows": null,
            "grid_column": null,
            "grid_gap": null,
            "grid_row": null,
            "grid_template_areas": null,
            "grid_template_columns": null,
            "grid_template_rows": null,
            "height": null,
            "justify_content": null,
            "justify_items": null,
            "left": null,
            "margin": null,
            "max_height": null,
            "max_width": null,
            "min_height": null,
            "min_width": null,
            "object_fit": null,
            "object_position": null,
            "order": null,
            "overflow": null,
            "overflow_x": null,
            "overflow_y": null,
            "padding": null,
            "right": null,
            "top": null,
            "visibility": null,
            "width": null
          }
        },
        "5871332e7b684a85932d9aff086521df": {
          "model_module": "@jupyter-widgets/controls",
          "model_name": "DescriptionStyleModel",
          "model_module_version": "1.5.0",
          "state": {
            "_model_module": "@jupyter-widgets/controls",
            "_model_module_version": "1.5.0",
            "_model_name": "DescriptionStyleModel",
            "_view_count": null,
            "_view_module": "@jupyter-widgets/base",
            "_view_module_version": "1.2.0",
            "_view_name": "StyleView",
            "description_width": ""
          }
        },
        "599771b75d1e429eb02e09927a792b37": {
          "model_module": "@jupyter-widgets/base",
          "model_name": "LayoutModel",
          "model_module_version": "1.2.0",
          "state": {
            "_model_module": "@jupyter-widgets/base",
            "_model_module_version": "1.2.0",
            "_model_name": "LayoutModel",
            "_view_count": null,
            "_view_module": "@jupyter-widgets/base",
            "_view_module_version": "1.2.0",
            "_view_name": "LayoutView",
            "align_content": null,
            "align_items": null,
            "align_self": null,
            "border": null,
            "bottom": null,
            "display": null,
            "flex": null,
            "flex_flow": null,
            "grid_area": null,
            "grid_auto_columns": null,
            "grid_auto_flow": null,
            "grid_auto_rows": null,
            "grid_column": null,
            "grid_gap": null,
            "grid_row": null,
            "grid_template_areas": null,
            "grid_template_columns": null,
            "grid_template_rows": null,
            "height": null,
            "justify_content": null,
            "justify_items": null,
            "left": null,
            "margin": null,
            "max_height": null,
            "max_width": null,
            "min_height": null,
            "min_width": null,
            "object_fit": null,
            "object_position": null,
            "order": null,
            "overflow": null,
            "overflow_x": null,
            "overflow_y": null,
            "padding": null,
            "right": null,
            "top": null,
            "visibility": null,
            "width": null
          }
        },
        "63a143b2c33e4041a52ab5ae9b3cfc09": {
          "model_module": "@jupyter-widgets/controls",
          "model_name": "ProgressStyleModel",
          "model_module_version": "1.5.0",
          "state": {
            "_model_module": "@jupyter-widgets/controls",
            "_model_module_version": "1.5.0",
            "_model_name": "ProgressStyleModel",
            "_view_count": null,
            "_view_module": "@jupyter-widgets/base",
            "_view_module_version": "1.2.0",
            "_view_name": "StyleView",
            "bar_color": null,
            "description_width": ""
          }
        },
        "1ca38d932a254a08b82f5b10b30dfbaf": {
          "model_module": "@jupyter-widgets/base",
          "model_name": "LayoutModel",
          "model_module_version": "1.2.0",
          "state": {
            "_model_module": "@jupyter-widgets/base",
            "_model_module_version": "1.2.0",
            "_model_name": "LayoutModel",
            "_view_count": null,
            "_view_module": "@jupyter-widgets/base",
            "_view_module_version": "1.2.0",
            "_view_name": "LayoutView",
            "align_content": null,
            "align_items": null,
            "align_self": null,
            "border": null,
            "bottom": null,
            "display": null,
            "flex": null,
            "flex_flow": null,
            "grid_area": null,
            "grid_auto_columns": null,
            "grid_auto_flow": null,
            "grid_auto_rows": null,
            "grid_column": null,
            "grid_gap": null,
            "grid_row": null,
            "grid_template_areas": null,
            "grid_template_columns": null,
            "grid_template_rows": null,
            "height": null,
            "justify_content": null,
            "justify_items": null,
            "left": null,
            "margin": null,
            "max_height": null,
            "max_width": null,
            "min_height": null,
            "min_width": null,
            "object_fit": null,
            "object_position": null,
            "order": null,
            "overflow": null,
            "overflow_x": null,
            "overflow_y": null,
            "padding": null,
            "right": null,
            "top": null,
            "visibility": null,
            "width": null
          }
        },
        "2f1ed94cfe8e44beae0037a8492d03a9": {
          "model_module": "@jupyter-widgets/controls",
          "model_name": "DescriptionStyleModel",
          "model_module_version": "1.5.0",
          "state": {
            "_model_module": "@jupyter-widgets/controls",
            "_model_module_version": "1.5.0",
            "_model_name": "DescriptionStyleModel",
            "_view_count": null,
            "_view_module": "@jupyter-widgets/base",
            "_view_module_version": "1.2.0",
            "_view_name": "StyleView",
            "description_width": ""
          }
        },
        "ebbfddd57fb947579eb4663db67f6712": {
          "model_module": "@jupyter-widgets/controls",
          "model_name": "HBoxModel",
          "model_module_version": "1.5.0",
          "state": {
            "_dom_classes": [],
            "_model_module": "@jupyter-widgets/controls",
            "_model_module_version": "1.5.0",
            "_model_name": "HBoxModel",
            "_view_count": null,
            "_view_module": "@jupyter-widgets/controls",
            "_view_module_version": "1.5.0",
            "_view_name": "HBoxView",
            "box_style": "",
            "children": [
              "IPY_MODEL_8c6aa6f6f8074ac09d7aa2e81dda5ded",
              "IPY_MODEL_c8e3dcb2cb3b4917ab7d21a79e082f61",
              "IPY_MODEL_de39665d5a564940bf34b682870b7b07"
            ],
            "layout": "IPY_MODEL_43645ba1662d43a080cf813fa9350ef5"
          }
        },
        "8c6aa6f6f8074ac09d7aa2e81dda5ded": {
          "model_module": "@jupyter-widgets/controls",
          "model_name": "HTMLModel",
          "model_module_version": "1.5.0",
          "state": {
            "_dom_classes": [],
            "_model_module": "@jupyter-widgets/controls",
            "_model_module_version": "1.5.0",
            "_model_name": "HTMLModel",
            "_view_count": null,
            "_view_module": "@jupyter-widgets/controls",
            "_view_module_version": "1.5.0",
            "_view_name": "HTMLView",
            "description": "",
            "description_tooltip": null,
            "layout": "IPY_MODEL_4be719b0182e40d69952a594ed65c47b",
            "placeholder": "​",
            "style": "IPY_MODEL_8ada0fc327f2444abb7820dd2a02cc4b",
            "value": "100%"
          }
        },
        "c8e3dcb2cb3b4917ab7d21a79e082f61": {
          "model_module": "@jupyter-widgets/controls",
          "model_name": "FloatProgressModel",
          "model_module_version": "1.5.0",
          "state": {
            "_dom_classes": [],
            "_model_module": "@jupyter-widgets/controls",
            "_model_module_version": "1.5.0",
            "_model_name": "FloatProgressModel",
            "_view_count": null,
            "_view_module": "@jupyter-widgets/controls",
            "_view_module_version": "1.5.0",
            "_view_name": "ProgressView",
            "bar_style": "success",
            "description": "",
            "description_tooltip": null,
            "layout": "IPY_MODEL_d07fc42346ef4fa8b4b72b80c0ab3db0",
            "max": 7,
            "min": 0,
            "orientation": "horizontal",
            "style": "IPY_MODEL_020ecfa24ac44c349bfc6a6dbf642c0a",
            "value": 7
          }
        },
        "de39665d5a564940bf34b682870b7b07": {
          "model_module": "@jupyter-widgets/controls",
          "model_name": "HTMLModel",
          "model_module_version": "1.5.0",
          "state": {
            "_dom_classes": [],
            "_model_module": "@jupyter-widgets/controls",
            "_model_module_version": "1.5.0",
            "_model_name": "HTMLModel",
            "_view_count": null,
            "_view_module": "@jupyter-widgets/controls",
            "_view_module_version": "1.5.0",
            "_view_name": "HTMLView",
            "description": "",
            "description_tooltip": null,
            "layout": "IPY_MODEL_a0f1ab38fd7b4337b7267b8b3a104206",
            "placeholder": "​",
            "style": "IPY_MODEL_e104199ebd91459786b6f77d4321a228",
            "value": " 7/7 [03:39&lt;00:00, 26.71s/it]"
          }
        },
        "43645ba1662d43a080cf813fa9350ef5": {
          "model_module": "@jupyter-widgets/base",
          "model_name": "LayoutModel",
          "model_module_version": "1.2.0",
          "state": {
            "_model_module": "@jupyter-widgets/base",
            "_model_module_version": "1.2.0",
            "_model_name": "LayoutModel",
            "_view_count": null,
            "_view_module": "@jupyter-widgets/base",
            "_view_module_version": "1.2.0",
            "_view_name": "LayoutView",
            "align_content": null,
            "align_items": null,
            "align_self": null,
            "border": null,
            "bottom": null,
            "display": null,
            "flex": null,
            "flex_flow": null,
            "grid_area": null,
            "grid_auto_columns": null,
            "grid_auto_flow": null,
            "grid_auto_rows": null,
            "grid_column": null,
            "grid_gap": null,
            "grid_row": null,
            "grid_template_areas": null,
            "grid_template_columns": null,
            "grid_template_rows": null,
            "height": null,
            "justify_content": null,
            "justify_items": null,
            "left": null,
            "margin": null,
            "max_height": null,
            "max_width": null,
            "min_height": null,
            "min_width": null,
            "object_fit": null,
            "object_position": null,
            "order": null,
            "overflow": null,
            "overflow_x": null,
            "overflow_y": null,
            "padding": null,
            "right": null,
            "top": null,
            "visibility": null,
            "width": null
          }
        },
        "4be719b0182e40d69952a594ed65c47b": {
          "model_module": "@jupyter-widgets/base",
          "model_name": "LayoutModel",
          "model_module_version": "1.2.0",
          "state": {
            "_model_module": "@jupyter-widgets/base",
            "_model_module_version": "1.2.0",
            "_model_name": "LayoutModel",
            "_view_count": null,
            "_view_module": "@jupyter-widgets/base",
            "_view_module_version": "1.2.0",
            "_view_name": "LayoutView",
            "align_content": null,
            "align_items": null,
            "align_self": null,
            "border": null,
            "bottom": null,
            "display": null,
            "flex": null,
            "flex_flow": null,
            "grid_area": null,
            "grid_auto_columns": null,
            "grid_auto_flow": null,
            "grid_auto_rows": null,
            "grid_column": null,
            "grid_gap": null,
            "grid_row": null,
            "grid_template_areas": null,
            "grid_template_columns": null,
            "grid_template_rows": null,
            "height": null,
            "justify_content": null,
            "justify_items": null,
            "left": null,
            "margin": null,
            "max_height": null,
            "max_width": null,
            "min_height": null,
            "min_width": null,
            "object_fit": null,
            "object_position": null,
            "order": null,
            "overflow": null,
            "overflow_x": null,
            "overflow_y": null,
            "padding": null,
            "right": null,
            "top": null,
            "visibility": null,
            "width": null
          }
        },
        "8ada0fc327f2444abb7820dd2a02cc4b": {
          "model_module": "@jupyter-widgets/controls",
          "model_name": "DescriptionStyleModel",
          "model_module_version": "1.5.0",
          "state": {
            "_model_module": "@jupyter-widgets/controls",
            "_model_module_version": "1.5.0",
            "_model_name": "DescriptionStyleModel",
            "_view_count": null,
            "_view_module": "@jupyter-widgets/base",
            "_view_module_version": "1.2.0",
            "_view_name": "StyleView",
            "description_width": ""
          }
        },
        "d07fc42346ef4fa8b4b72b80c0ab3db0": {
          "model_module": "@jupyter-widgets/base",
          "model_name": "LayoutModel",
          "model_module_version": "1.2.0",
          "state": {
            "_model_module": "@jupyter-widgets/base",
            "_model_module_version": "1.2.0",
            "_model_name": "LayoutModel",
            "_view_count": null,
            "_view_module": "@jupyter-widgets/base",
            "_view_module_version": "1.2.0",
            "_view_name": "LayoutView",
            "align_content": null,
            "align_items": null,
            "align_self": null,
            "border": null,
            "bottom": null,
            "display": null,
            "flex": null,
            "flex_flow": null,
            "grid_area": null,
            "grid_auto_columns": null,
            "grid_auto_flow": null,
            "grid_auto_rows": null,
            "grid_column": null,
            "grid_gap": null,
            "grid_row": null,
            "grid_template_areas": null,
            "grid_template_columns": null,
            "grid_template_rows": null,
            "height": null,
            "justify_content": null,
            "justify_items": null,
            "left": null,
            "margin": null,
            "max_height": null,
            "max_width": null,
            "min_height": null,
            "min_width": null,
            "object_fit": null,
            "object_position": null,
            "order": null,
            "overflow": null,
            "overflow_x": null,
            "overflow_y": null,
            "padding": null,
            "right": null,
            "top": null,
            "visibility": null,
            "width": null
          }
        },
        "020ecfa24ac44c349bfc6a6dbf642c0a": {
          "model_module": "@jupyter-widgets/controls",
          "model_name": "ProgressStyleModel",
          "model_module_version": "1.5.0",
          "state": {
            "_model_module": "@jupyter-widgets/controls",
            "_model_module_version": "1.5.0",
            "_model_name": "ProgressStyleModel",
            "_view_count": null,
            "_view_module": "@jupyter-widgets/base",
            "_view_module_version": "1.2.0",
            "_view_name": "StyleView",
            "bar_color": null,
            "description_width": ""
          }
        },
        "a0f1ab38fd7b4337b7267b8b3a104206": {
          "model_module": "@jupyter-widgets/base",
          "model_name": "LayoutModel",
          "model_module_version": "1.2.0",
          "state": {
            "_model_module": "@jupyter-widgets/base",
            "_model_module_version": "1.2.0",
            "_model_name": "LayoutModel",
            "_view_count": null,
            "_view_module": "@jupyter-widgets/base",
            "_view_module_version": "1.2.0",
            "_view_name": "LayoutView",
            "align_content": null,
            "align_items": null,
            "align_self": null,
            "border": null,
            "bottom": null,
            "display": null,
            "flex": null,
            "flex_flow": null,
            "grid_area": null,
            "grid_auto_columns": null,
            "grid_auto_flow": null,
            "grid_auto_rows": null,
            "grid_column": null,
            "grid_gap": null,
            "grid_row": null,
            "grid_template_areas": null,
            "grid_template_columns": null,
            "grid_template_rows": null,
            "height": null,
            "justify_content": null,
            "justify_items": null,
            "left": null,
            "margin": null,
            "max_height": null,
            "max_width": null,
            "min_height": null,
            "min_width": null,
            "object_fit": null,
            "object_position": null,
            "order": null,
            "overflow": null,
            "overflow_x": null,
            "overflow_y": null,
            "padding": null,
            "right": null,
            "top": null,
            "visibility": null,
            "width": null
          }
        },
        "e104199ebd91459786b6f77d4321a228": {
          "model_module": "@jupyter-widgets/controls",
          "model_name": "DescriptionStyleModel",
          "model_module_version": "1.5.0",
          "state": {
            "_model_module": "@jupyter-widgets/controls",
            "_model_module_version": "1.5.0",
            "_model_name": "DescriptionStyleModel",
            "_view_count": null,
            "_view_module": "@jupyter-widgets/base",
            "_view_module_version": "1.2.0",
            "_view_name": "StyleView",
            "description_width": ""
          }
        },
        "d8ceecb00b2941d6bb3e1d5087e22a1d": {
          "model_module": "@jupyter-widgets/controls",
          "model_name": "HBoxModel",
          "model_module_version": "1.5.0",
          "state": {
            "_dom_classes": [],
            "_model_module": "@jupyter-widgets/controls",
            "_model_module_version": "1.5.0",
            "_model_name": "HBoxModel",
            "_view_count": null,
            "_view_module": "@jupyter-widgets/controls",
            "_view_module_version": "1.5.0",
            "_view_name": "HBoxView",
            "box_style": "",
            "children": [
              "IPY_MODEL_820630b02b1044f4a27e81b28d5b086c",
              "IPY_MODEL_c8aeea45ffe94031afb5d95364cf099a",
              "IPY_MODEL_ac3d9570b92f4a91b4986dc8c5bb0fd3"
            ],
            "layout": "IPY_MODEL_c1d9688e0e5d406fb3e164beea5730cd"
          }
        },
        "820630b02b1044f4a27e81b28d5b086c": {
          "model_module": "@jupyter-widgets/controls",
          "model_name": "HTMLModel",
          "model_module_version": "1.5.0",
          "state": {
            "_dom_classes": [],
            "_model_module": "@jupyter-widgets/controls",
            "_model_module_version": "1.5.0",
            "_model_name": "HTMLModel",
            "_view_count": null,
            "_view_module": "@jupyter-widgets/controls",
            "_view_module_version": "1.5.0",
            "_view_name": "HTMLView",
            "description": "",
            "description_tooltip": null,
            "layout": "IPY_MODEL_c1a45dd69c924e8c9f1ca1fb713045bd",
            "placeholder": "​",
            "style": "IPY_MODEL_771208e3eb3545149f05ade5d72f134d",
            "value": "100%"
          }
        },
        "c8aeea45ffe94031afb5d95364cf099a": {
          "model_module": "@jupyter-widgets/controls",
          "model_name": "FloatProgressModel",
          "model_module_version": "1.5.0",
          "state": {
            "_dom_classes": [],
            "_model_module": "@jupyter-widgets/controls",
            "_model_module_version": "1.5.0",
            "_model_name": "FloatProgressModel",
            "_view_count": null,
            "_view_module": "@jupyter-widgets/controls",
            "_view_module_version": "1.5.0",
            "_view_name": "ProgressView",
            "bar_style": "success",
            "description": "",
            "description_tooltip": null,
            "layout": "IPY_MODEL_f55066903d594980a0878718e1281e2e",
            "max": 7,
            "min": 0,
            "orientation": "horizontal",
            "style": "IPY_MODEL_dd05d7a0e75d4b219a9aff4139f68a64",
            "value": 7
          }
        },
        "ac3d9570b92f4a91b4986dc8c5bb0fd3": {
          "model_module": "@jupyter-widgets/controls",
          "model_name": "HTMLModel",
          "model_module_version": "1.5.0",
          "state": {
            "_dom_classes": [],
            "_model_module": "@jupyter-widgets/controls",
            "_model_module_version": "1.5.0",
            "_model_name": "HTMLModel",
            "_view_count": null,
            "_view_module": "@jupyter-widgets/controls",
            "_view_module_version": "1.5.0",
            "_view_name": "HTMLView",
            "description": "",
            "description_tooltip": null,
            "layout": "IPY_MODEL_2af18386031843a0b10a3adadc29043d",
            "placeholder": "​",
            "style": "IPY_MODEL_6dd9d64d6ee9406dac5af40fcc60e146",
            "value": " 7/7 [03:39&lt;00:00, 26.68s/it]"
          }
        },
        "c1d9688e0e5d406fb3e164beea5730cd": {
          "model_module": "@jupyter-widgets/base",
          "model_name": "LayoutModel",
          "model_module_version": "1.2.0",
          "state": {
            "_model_module": "@jupyter-widgets/base",
            "_model_module_version": "1.2.0",
            "_model_name": "LayoutModel",
            "_view_count": null,
            "_view_module": "@jupyter-widgets/base",
            "_view_module_version": "1.2.0",
            "_view_name": "LayoutView",
            "align_content": null,
            "align_items": null,
            "align_self": null,
            "border": null,
            "bottom": null,
            "display": null,
            "flex": null,
            "flex_flow": null,
            "grid_area": null,
            "grid_auto_columns": null,
            "grid_auto_flow": null,
            "grid_auto_rows": null,
            "grid_column": null,
            "grid_gap": null,
            "grid_row": null,
            "grid_template_areas": null,
            "grid_template_columns": null,
            "grid_template_rows": null,
            "height": null,
            "justify_content": null,
            "justify_items": null,
            "left": null,
            "margin": null,
            "max_height": null,
            "max_width": null,
            "min_height": null,
            "min_width": null,
            "object_fit": null,
            "object_position": null,
            "order": null,
            "overflow": null,
            "overflow_x": null,
            "overflow_y": null,
            "padding": null,
            "right": null,
            "top": null,
            "visibility": null,
            "width": null
          }
        },
        "c1a45dd69c924e8c9f1ca1fb713045bd": {
          "model_module": "@jupyter-widgets/base",
          "model_name": "LayoutModel",
          "model_module_version": "1.2.0",
          "state": {
            "_model_module": "@jupyter-widgets/base",
            "_model_module_version": "1.2.0",
            "_model_name": "LayoutModel",
            "_view_count": null,
            "_view_module": "@jupyter-widgets/base",
            "_view_module_version": "1.2.0",
            "_view_name": "LayoutView",
            "align_content": null,
            "align_items": null,
            "align_self": null,
            "border": null,
            "bottom": null,
            "display": null,
            "flex": null,
            "flex_flow": null,
            "grid_area": null,
            "grid_auto_columns": null,
            "grid_auto_flow": null,
            "grid_auto_rows": null,
            "grid_column": null,
            "grid_gap": null,
            "grid_row": null,
            "grid_template_areas": null,
            "grid_template_columns": null,
            "grid_template_rows": null,
            "height": null,
            "justify_content": null,
            "justify_items": null,
            "left": null,
            "margin": null,
            "max_height": null,
            "max_width": null,
            "min_height": null,
            "min_width": null,
            "object_fit": null,
            "object_position": null,
            "order": null,
            "overflow": null,
            "overflow_x": null,
            "overflow_y": null,
            "padding": null,
            "right": null,
            "top": null,
            "visibility": null,
            "width": null
          }
        },
        "771208e3eb3545149f05ade5d72f134d": {
          "model_module": "@jupyter-widgets/controls",
          "model_name": "DescriptionStyleModel",
          "model_module_version": "1.5.0",
          "state": {
            "_model_module": "@jupyter-widgets/controls",
            "_model_module_version": "1.5.0",
            "_model_name": "DescriptionStyleModel",
            "_view_count": null,
            "_view_module": "@jupyter-widgets/base",
            "_view_module_version": "1.2.0",
            "_view_name": "StyleView",
            "description_width": ""
          }
        },
        "f55066903d594980a0878718e1281e2e": {
          "model_module": "@jupyter-widgets/base",
          "model_name": "LayoutModel",
          "model_module_version": "1.2.0",
          "state": {
            "_model_module": "@jupyter-widgets/base",
            "_model_module_version": "1.2.0",
            "_model_name": "LayoutModel",
            "_view_count": null,
            "_view_module": "@jupyter-widgets/base",
            "_view_module_version": "1.2.0",
            "_view_name": "LayoutView",
            "align_content": null,
            "align_items": null,
            "align_self": null,
            "border": null,
            "bottom": null,
            "display": null,
            "flex": null,
            "flex_flow": null,
            "grid_area": null,
            "grid_auto_columns": null,
            "grid_auto_flow": null,
            "grid_auto_rows": null,
            "grid_column": null,
            "grid_gap": null,
            "grid_row": null,
            "grid_template_areas": null,
            "grid_template_columns": null,
            "grid_template_rows": null,
            "height": null,
            "justify_content": null,
            "justify_items": null,
            "left": null,
            "margin": null,
            "max_height": null,
            "max_width": null,
            "min_height": null,
            "min_width": null,
            "object_fit": null,
            "object_position": null,
            "order": null,
            "overflow": null,
            "overflow_x": null,
            "overflow_y": null,
            "padding": null,
            "right": null,
            "top": null,
            "visibility": null,
            "width": null
          }
        },
        "dd05d7a0e75d4b219a9aff4139f68a64": {
          "model_module": "@jupyter-widgets/controls",
          "model_name": "ProgressStyleModel",
          "model_module_version": "1.5.0",
          "state": {
            "_model_module": "@jupyter-widgets/controls",
            "_model_module_version": "1.5.0",
            "_model_name": "ProgressStyleModel",
            "_view_count": null,
            "_view_module": "@jupyter-widgets/base",
            "_view_module_version": "1.2.0",
            "_view_name": "StyleView",
            "bar_color": null,
            "description_width": ""
          }
        },
        "2af18386031843a0b10a3adadc29043d": {
          "model_module": "@jupyter-widgets/base",
          "model_name": "LayoutModel",
          "model_module_version": "1.2.0",
          "state": {
            "_model_module": "@jupyter-widgets/base",
            "_model_module_version": "1.2.0",
            "_model_name": "LayoutModel",
            "_view_count": null,
            "_view_module": "@jupyter-widgets/base",
            "_view_module_version": "1.2.0",
            "_view_name": "LayoutView",
            "align_content": null,
            "align_items": null,
            "align_self": null,
            "border": null,
            "bottom": null,
            "display": null,
            "flex": null,
            "flex_flow": null,
            "grid_area": null,
            "grid_auto_columns": null,
            "grid_auto_flow": null,
            "grid_auto_rows": null,
            "grid_column": null,
            "grid_gap": null,
            "grid_row": null,
            "grid_template_areas": null,
            "grid_template_columns": null,
            "grid_template_rows": null,
            "height": null,
            "justify_content": null,
            "justify_items": null,
            "left": null,
            "margin": null,
            "max_height": null,
            "max_width": null,
            "min_height": null,
            "min_width": null,
            "object_fit": null,
            "object_position": null,
            "order": null,
            "overflow": null,
            "overflow_x": null,
            "overflow_y": null,
            "padding": null,
            "right": null,
            "top": null,
            "visibility": null,
            "width": null
          }
        },
        "6dd9d64d6ee9406dac5af40fcc60e146": {
          "model_module": "@jupyter-widgets/controls",
          "model_name": "DescriptionStyleModel",
          "model_module_version": "1.5.0",
          "state": {
            "_model_module": "@jupyter-widgets/controls",
            "_model_module_version": "1.5.0",
            "_model_name": "DescriptionStyleModel",
            "_view_count": null,
            "_view_module": "@jupyter-widgets/base",
            "_view_module_version": "1.2.0",
            "_view_name": "StyleView",
            "description_width": ""
          }
        },
        "4f8921b0a595403486c13d568cadebff": {
          "model_module": "@jupyter-widgets/controls",
          "model_name": "HBoxModel",
          "model_module_version": "1.5.0",
          "state": {
            "_dom_classes": [],
            "_model_module": "@jupyter-widgets/controls",
            "_model_module_version": "1.5.0",
            "_model_name": "HBoxModel",
            "_view_count": null,
            "_view_module": "@jupyter-widgets/controls",
            "_view_module_version": "1.5.0",
            "_view_name": "HBoxView",
            "box_style": "",
            "children": [
              "IPY_MODEL_60bcbcb8a5f14d988543031acd1c93de",
              "IPY_MODEL_48a08c0fef6e4b1fa08e2b770e633811",
              "IPY_MODEL_6deb542ab60246199ad0f7b6f039b558"
            ],
            "layout": "IPY_MODEL_2e14f36fc62c40dd9a25ab2f2610a3e7"
          }
        },
        "60bcbcb8a5f14d988543031acd1c93de": {
          "model_module": "@jupyter-widgets/controls",
          "model_name": "HTMLModel",
          "model_module_version": "1.5.0",
          "state": {
            "_dom_classes": [],
            "_model_module": "@jupyter-widgets/controls",
            "_model_module_version": "1.5.0",
            "_model_name": "HTMLModel",
            "_view_count": null,
            "_view_module": "@jupyter-widgets/controls",
            "_view_module_version": "1.5.0",
            "_view_name": "HTMLView",
            "description": "",
            "description_tooltip": null,
            "layout": "IPY_MODEL_f4c155de7e474ca58bc96253b99a36a9",
            "placeholder": "​",
            "style": "IPY_MODEL_9faace1b7f3b485d867026ed60363cc1",
            "value": "100%"
          }
        },
        "48a08c0fef6e4b1fa08e2b770e633811": {
          "model_module": "@jupyter-widgets/controls",
          "model_name": "FloatProgressModel",
          "model_module_version": "1.5.0",
          "state": {
            "_dom_classes": [],
            "_model_module": "@jupyter-widgets/controls",
            "_model_module_version": "1.5.0",
            "_model_name": "FloatProgressModel",
            "_view_count": null,
            "_view_module": "@jupyter-widgets/controls",
            "_view_module_version": "1.5.0",
            "_view_name": "ProgressView",
            "bar_style": "success",
            "description": "",
            "description_tooltip": null,
            "layout": "IPY_MODEL_67c47998cd174e878e8c7ee6f63ec5d7",
            "max": 7,
            "min": 0,
            "orientation": "horizontal",
            "style": "IPY_MODEL_d1672c0d284c465a8a402d7223f8a328",
            "value": 7
          }
        },
        "6deb542ab60246199ad0f7b6f039b558": {
          "model_module": "@jupyter-widgets/controls",
          "model_name": "HTMLModel",
          "model_module_version": "1.5.0",
          "state": {
            "_dom_classes": [],
            "_model_module": "@jupyter-widgets/controls",
            "_model_module_version": "1.5.0",
            "_model_name": "HTMLModel",
            "_view_count": null,
            "_view_module": "@jupyter-widgets/controls",
            "_view_module_version": "1.5.0",
            "_view_name": "HTMLView",
            "description": "",
            "description_tooltip": null,
            "layout": "IPY_MODEL_d0c6ecee02d6428097d9f6914629db2f",
            "placeholder": "​",
            "style": "IPY_MODEL_7400fe2926264ee6a012fc2bcbb1e7b6",
            "value": " 7/7 [03:37&lt;00:00, 26.42s/it]"
          }
        },
        "2e14f36fc62c40dd9a25ab2f2610a3e7": {
          "model_module": "@jupyter-widgets/base",
          "model_name": "LayoutModel",
          "model_module_version": "1.2.0",
          "state": {
            "_model_module": "@jupyter-widgets/base",
            "_model_module_version": "1.2.0",
            "_model_name": "LayoutModel",
            "_view_count": null,
            "_view_module": "@jupyter-widgets/base",
            "_view_module_version": "1.2.0",
            "_view_name": "LayoutView",
            "align_content": null,
            "align_items": null,
            "align_self": null,
            "border": null,
            "bottom": null,
            "display": null,
            "flex": null,
            "flex_flow": null,
            "grid_area": null,
            "grid_auto_columns": null,
            "grid_auto_flow": null,
            "grid_auto_rows": null,
            "grid_column": null,
            "grid_gap": null,
            "grid_row": null,
            "grid_template_areas": null,
            "grid_template_columns": null,
            "grid_template_rows": null,
            "height": null,
            "justify_content": null,
            "justify_items": null,
            "left": null,
            "margin": null,
            "max_height": null,
            "max_width": null,
            "min_height": null,
            "min_width": null,
            "object_fit": null,
            "object_position": null,
            "order": null,
            "overflow": null,
            "overflow_x": null,
            "overflow_y": null,
            "padding": null,
            "right": null,
            "top": null,
            "visibility": null,
            "width": null
          }
        },
        "f4c155de7e474ca58bc96253b99a36a9": {
          "model_module": "@jupyter-widgets/base",
          "model_name": "LayoutModel",
          "model_module_version": "1.2.0",
          "state": {
            "_model_module": "@jupyter-widgets/base",
            "_model_module_version": "1.2.0",
            "_model_name": "LayoutModel",
            "_view_count": null,
            "_view_module": "@jupyter-widgets/base",
            "_view_module_version": "1.2.0",
            "_view_name": "LayoutView",
            "align_content": null,
            "align_items": null,
            "align_self": null,
            "border": null,
            "bottom": null,
            "display": null,
            "flex": null,
            "flex_flow": null,
            "grid_area": null,
            "grid_auto_columns": null,
            "grid_auto_flow": null,
            "grid_auto_rows": null,
            "grid_column": null,
            "grid_gap": null,
            "grid_row": null,
            "grid_template_areas": null,
            "grid_template_columns": null,
            "grid_template_rows": null,
            "height": null,
            "justify_content": null,
            "justify_items": null,
            "left": null,
            "margin": null,
            "max_height": null,
            "max_width": null,
            "min_height": null,
            "min_width": null,
            "object_fit": null,
            "object_position": null,
            "order": null,
            "overflow": null,
            "overflow_x": null,
            "overflow_y": null,
            "padding": null,
            "right": null,
            "top": null,
            "visibility": null,
            "width": null
          }
        },
        "9faace1b7f3b485d867026ed60363cc1": {
          "model_module": "@jupyter-widgets/controls",
          "model_name": "DescriptionStyleModel",
          "model_module_version": "1.5.0",
          "state": {
            "_model_module": "@jupyter-widgets/controls",
            "_model_module_version": "1.5.0",
            "_model_name": "DescriptionStyleModel",
            "_view_count": null,
            "_view_module": "@jupyter-widgets/base",
            "_view_module_version": "1.2.0",
            "_view_name": "StyleView",
            "description_width": ""
          }
        },
        "67c47998cd174e878e8c7ee6f63ec5d7": {
          "model_module": "@jupyter-widgets/base",
          "model_name": "LayoutModel",
          "model_module_version": "1.2.0",
          "state": {
            "_model_module": "@jupyter-widgets/base",
            "_model_module_version": "1.2.0",
            "_model_name": "LayoutModel",
            "_view_count": null,
            "_view_module": "@jupyter-widgets/base",
            "_view_module_version": "1.2.0",
            "_view_name": "LayoutView",
            "align_content": null,
            "align_items": null,
            "align_self": null,
            "border": null,
            "bottom": null,
            "display": null,
            "flex": null,
            "flex_flow": null,
            "grid_area": null,
            "grid_auto_columns": null,
            "grid_auto_flow": null,
            "grid_auto_rows": null,
            "grid_column": null,
            "grid_gap": null,
            "grid_row": null,
            "grid_template_areas": null,
            "grid_template_columns": null,
            "grid_template_rows": null,
            "height": null,
            "justify_content": null,
            "justify_items": null,
            "left": null,
            "margin": null,
            "max_height": null,
            "max_width": null,
            "min_height": null,
            "min_width": null,
            "object_fit": null,
            "object_position": null,
            "order": null,
            "overflow": null,
            "overflow_x": null,
            "overflow_y": null,
            "padding": null,
            "right": null,
            "top": null,
            "visibility": null,
            "width": null
          }
        },
        "d1672c0d284c465a8a402d7223f8a328": {
          "model_module": "@jupyter-widgets/controls",
          "model_name": "ProgressStyleModel",
          "model_module_version": "1.5.0",
          "state": {
            "_model_module": "@jupyter-widgets/controls",
            "_model_module_version": "1.5.0",
            "_model_name": "ProgressStyleModel",
            "_view_count": null,
            "_view_module": "@jupyter-widgets/base",
            "_view_module_version": "1.2.0",
            "_view_name": "StyleView",
            "bar_color": null,
            "description_width": ""
          }
        },
        "d0c6ecee02d6428097d9f6914629db2f": {
          "model_module": "@jupyter-widgets/base",
          "model_name": "LayoutModel",
          "model_module_version": "1.2.0",
          "state": {
            "_model_module": "@jupyter-widgets/base",
            "_model_module_version": "1.2.0",
            "_model_name": "LayoutModel",
            "_view_count": null,
            "_view_module": "@jupyter-widgets/base",
            "_view_module_version": "1.2.0",
            "_view_name": "LayoutView",
            "align_content": null,
            "align_items": null,
            "align_self": null,
            "border": null,
            "bottom": null,
            "display": null,
            "flex": null,
            "flex_flow": null,
            "grid_area": null,
            "grid_auto_columns": null,
            "grid_auto_flow": null,
            "grid_auto_rows": null,
            "grid_column": null,
            "grid_gap": null,
            "grid_row": null,
            "grid_template_areas": null,
            "grid_template_columns": null,
            "grid_template_rows": null,
            "height": null,
            "justify_content": null,
            "justify_items": null,
            "left": null,
            "margin": null,
            "max_height": null,
            "max_width": null,
            "min_height": null,
            "min_width": null,
            "object_fit": null,
            "object_position": null,
            "order": null,
            "overflow": null,
            "overflow_x": null,
            "overflow_y": null,
            "padding": null,
            "right": null,
            "top": null,
            "visibility": null,
            "width": null
          }
        },
        "7400fe2926264ee6a012fc2bcbb1e7b6": {
          "model_module": "@jupyter-widgets/controls",
          "model_name": "DescriptionStyleModel",
          "model_module_version": "1.5.0",
          "state": {
            "_model_module": "@jupyter-widgets/controls",
            "_model_module_version": "1.5.0",
            "_model_name": "DescriptionStyleModel",
            "_view_count": null,
            "_view_module": "@jupyter-widgets/base",
            "_view_module_version": "1.2.0",
            "_view_name": "StyleView",
            "description_width": ""
          }
        }
      }
    }
  },
  "nbformat": 4,
  "nbformat_minor": 0
}